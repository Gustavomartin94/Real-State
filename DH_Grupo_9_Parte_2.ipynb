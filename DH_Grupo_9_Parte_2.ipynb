{
  "nbformat": 4,
  "nbformat_minor": 0,
  "metadata": {
    "colab": {
      "provenance": []
    },
    "kernelspec": {
      "name": "python3",
      "display_name": "Python 3"
    },
    "language_info": {
      "name": "python"
    }
  },
  "cells": [
    {
      "cell_type": "markdown",
      "source": [
        "Se desea obtener 3 modelos distintos para un conjunto de datos\n",
        "\n",
        
        "\n",
        "\n",
        "\n"
      ],
      "metadata": {
        "id": "5195t2czisMa"
      }
    },
    {
      "cell_type": "markdown",
      "source": [
        "Importamos los datos"
      ],
      "metadata": {
        "id": "feA_qOCsFITH"
      }
    },
    {
      "cell_type": "code",
      "source": [
        "import gdown\n",
        "\n",
        "url = ' '\n",
        "output = ' '\n",
        "gdown.download(url, output, quiet=False)"
      ],
      "metadata": {
        "id": "yzqYIDwcizBO",
        "outputId": "5306fa0c-5d39-403a-b35f-72b6cd98d9f5",
        "colab": {
          "base_uri": "https://localhost:8080/",
          "height": 103
        }
      },
      "execution_count": null,
      "outputs": [
        {
          "output_type": "stream",
          "name": "stderr",
          "text": [
            "Downloading...\n",
            "From:  ",
            "To: /content/properatti_filtered.csv\n",
            "100%|██████████| 11.5M/11.5M [00:00<00:00, 49.5MB/s]\n"
          ]
        },
        {
          "output_type": "execute_result",
          "data": {
            "text/plain": [
              "'properatti_filtered.csv'"
            ],
            "application/vnd.google.colaboratory.intrinsic+json": {
              "type": "string"
            }
          },
          "metadata": {},
          "execution_count": 1
        }
      ]
    },
    {
      "cell_type": "markdown",
      "source": [
        "Importamos librerías"
      ],
      "metadata": {
        "id": "u6aJLDEHFD3n"
      }
    },
    {
      "cell_type": "code",
      "source": [
        "import pandas as pd\n",
        "import matplotlib.pyplot as plt\n",
        "import numpy as np\n",
        "import seaborn as sns\n",
        "import re\n",
        "import pandas as pd\n",
        "import matplotlib.pyplot as plt\n",
        "import numpy as np\n",
        "import seaborn as sns\n",
        "\n",
        "data = pd.read_csv('/content/properatti_filtered.csv')\n",
        "\n",
        "data.dtypes"
      ],
      "metadata": {
        "id": "5sQ7ok_IjIwZ",
        "outputId": "9d9253b5-03b4-4327-9aa5-859aa6641964",
        "colab": {
          "base_uri": "https://localhost:8080/"
        }
      },
      "execution_count": null,
      "outputs": [
        {
          "output_type": "execute_result",
          "data": {
            "text/plain": [
              "Unnamed: 0.1               int64\n",
              "Unnamed: 0                 int64\n",
              "property_type             object\n",
              "state_name                object\n",
              "location_name             object\n",
              "lat                      float64\n",
              "lon                      float64\n",
              "price                    float64\n",
              "surface_covered_in_m2    float64\n",
              "price_per_m2             float64\n",
              "rooms                    float64\n",
              "balcon                      bool\n",
              "parrilla                    bool\n",
              "cochera                     bool\n",
              "patio                       bool\n",
              "pileta                      bool\n",
              "lavadero                    bool\n",
              "dtype: object"
            ]
          },
          "metadata": {},
          "execution_count": 2
        }
      ]
    },
    {
      "cell_type": "code",
      "source": [
        "import numpy as np\n",
        "import pandas as pd\n",
        "\n",
        "import seaborn as sns\n",
        "import matplotlib.pyplot as plt\n",
        "%matplotlib inline\n",
        "from sklearn.linear_model import LinearRegression\n",
        "from sklearn.model_selection import train_test_split, cross_validate\n",
        "from sklearn.metrics import mean_absolute_error, mean_squared_error, r2_score\n",
        "from sklearn import metrics\n",
        "import statsmodels.api as sm\n",
        "from sklearn import preprocessing\n",
        "from sklearn.preprocessing import OneHotEncoder\n",
        "from sklearn.preprocessing import MinMaxScaler\n",
        "from statsmodels.tools import eval_measures\n",
        "from sklearn import linear_model"
      ],
      "metadata": {
        "id": "o2iibyoDvl5Q"
      },
      "execution_count": null,
      "outputs": []
    },
    {
      "cell_type": "markdown",
      "source": [
        "## Análisis de selección de subconjunto"
      ],
      "metadata": {
        "id": "tZQ8C07yhBLv"
      }
    },
    {
      "cell_type": "markdown",
      "source": [
        "Retomemos el análisis del comienzo. Debemos tomar un criterio sobre que barrios/ciudades seleccionar. Para eso buscaremos cierta cantidad de ciudades que tengan un \"comportamiento parecido\" y que se tenga una cantidad mayor a 2000 datos. Para eso se planteó el siguiente analisis:"
      ],
      "metadata": {
        "id": "lPWjo77r6VGq"
      }
    },
    {
      "cell_type": "code",
      "source": [
        "data[\"state_name\"].value_counts()"
      ],
      "metadata": {
        "colab": {
          "base_uri": "https://localhost:8080/"
        },
        "id": "PeleMuMu6oeX",
        "outputId": "6f2373a7-c397-4101-ae87-46b9dc72b3b7"
      },
      "execution_count": null,
      "outputs": [
        {
          "output_type": "execute_result",
          "data": {
            "text/plain": [
              "Capital Federal                 25661\n",
              "Bs.As. G.B.A. Zona Norte        21681\n",
              "Bs.As. G.B.A. Zona Sur           9927\n",
              "Buenos Aires Costa Atlántica     6988\n",
              "Bs.As. G.B.A. Zona Oeste         6164\n",
              "Córdoba                          3907\n",
              "Santa Fe                         1579\n",
              "Buenos Aires Interior            1320\n",
              "Name: state_name, dtype: int64"
            ]
          },
          "metadata": {},
          "execution_count": 4
        }
      ]
    },
    {
      "cell_type": "markdown",
      "source": [
        "Descartamos Santa Fe y el interior de Buenos Aires porque tienen menos de 2000 valores"
      ],
      "metadata": {
        "id": "0qQ4RQVM7DPw"
      }
    },
    {
      "cell_type": "code",
      "source": [
        "data['property_type']"
      ],
      "metadata": {
        "colab": {
          "base_uri": "https://localhost:8080/"
        },
        "id": "u3hQWfDv-Wgb",
        "outputId": "59e32aae-6145-46ad-dc02-d9dad3257c44"
      },
      "execution_count": null,
      "outputs": [
        {
          "output_type": "execute_result",
          "data": {
            "text/plain": [
              "0                  PH\n",
              "1        Departamento\n",
              "2        Departamento\n",
              "3                  PH\n",
              "4        Departamento\n",
              "             ...     \n",
              "77222    Departamento\n",
              "77223    Departamento\n",
              "77224            Casa\n",
              "77225    Departamento\n",
              "77226    Departamento\n",
              "Name: property_type, Length: 77227, dtype: object"
            ]
          },
          "metadata": {},
          "execution_count": 5
        }
      ]
    },
    {
      "cell_type": "code",
      "source": [
        "data.loc[data['state_name']==\"Córdoba\"].property_type.value_counts()"
      ],
      "metadata": {
        "colab": {
          "base_uri": "https://localhost:8080/"
        },
        "id": "SsZtYZgC7JEK",
        "outputId": "f59a2ada-c339-4770-9a2f-25293fe07980"
      },
      "execution_count": null,
      "outputs": [
        {
          "output_type": "execute_result",
          "data": {
            "text/plain": [
              "Casa            2046\n",
              "Departamento    1623\n",
              "Local            131\n",
              "PH               107\n",
              "Name: property_type, dtype: int64"
            ]
          },
          "metadata": {},
          "execution_count": 5
        }
      ]
    },
    {
      "cell_type": "code",
      "source": [
        "data.loc[data['state_name']==\"Córdoba\"].location_name.value_counts()"
      ],
      "metadata": {
        "colab": {
          "base_uri": "https://localhost:8080/"
        },
        "id": "66yEi6S8_2aZ",
        "outputId": "e18337e2-fb35-4875-9dec-2d6da4e4f52f"
      },
      "execution_count": null,
      "outputs": [
        {
          "output_type": "execute_result",
          "data": {
            "text/plain": [
              "Córdoba             2722\n",
              "Punilla              336\n",
              "Villa Carlos Paz     307\n",
              "Villa Allende         88\n",
              "Santa María           72\n",
              "                    ... \n",
              "Hernando               1\n",
              "Tancacha               1\n",
              "Monte Cristo           1\n",
              "San Vicente            1\n",
              "Mi Granja              1\n",
              "Name: location_name, Length: 80, dtype: int64"
            ]
          },
          "metadata": {},
          "execution_count": 6
        }
      ]
    },
    {
      "cell_type": "markdown",
      "source": [
        "En base a los datos de Córdoba podriamos trabajar únicamente con casas de Córdoba Capital y no superariamos el límite de los 2000. Tampoco consideramos un buen criterio mezclar departamentos con casas. Por lo que se descarta Córdoba"
      ],
      "metadata": {
        "id": "LUoz2tIa7mig"
      }
    },
    {
      "cell_type": "code",
      "source": [
        "data.loc[data['state_name']==\"Córdoba\"].property_type.value_counts()"
      ],
      "metadata": {
        "colab": {
          "base_uri": "https://localhost:8080/"
        },
        "id": "m7j-wgfZ6Qn7",
        "outputId": "cda4f135-4161-40c2-c6ac-eb8b8aad4ea3"
      },
      "execution_count": null,
      "outputs": [
        {
          "output_type": "execute_result",
          "data": {
            "text/plain": [
              "Casa            2046\n",
              "Departamento    1623\n",
              "Local            131\n",
              "PH               107\n",
              "Name: property_type, dtype: int64"
            ]
          },
          "metadata": {},
          "execution_count": 8
        }
      ]
    },
    {
      "cell_type": "markdown",
      "source": [
        "### Zona Oeste"
      ],
      "metadata": {
        "id": "-TWybDe_BlFP"
      }
    },
    {
      "cell_type": "markdown",
      "source": [
        "Para analizar Zona Oeste se debe considerar que en esta descripción se están tomando municipios y no ciudades. Un municipio es un conjunto de ciudades en donde hay mucha variabilidad de precios"
      ],
      "metadata": {
        "id": "B5SmoTjlAHlB"
      }
    },
    {
      "cell_type": "code",
      "source": [
        "import scipy.stats as stats"
      ],
      "metadata": {
        "id": "m8B2StopAbeh"
      },
      "execution_count": null,
      "outputs": []
    },
    {
      "cell_type": "code",
      "source": [
        "data[data['state_name']==\"Bs.As. G.B.A. Zona Oeste\"][\"location_name\"].value_counts()"
      ],
      "metadata": {
        "colab": {
          "base_uri": "https://localhost:8080/"
        },
        "id": "1lPDLGtj8Xq8",
        "outputId": "17f1857a-108b-496f-c1ed-b5745eb914d4"
      },
      "execution_count": null,
      "outputs": [
        {
          "output_type": "execute_result",
          "data": {
            "text/plain": [
              "Morón                1920\n",
              "La Matanza           1806\n",
              "Tres de Febrero       945\n",
              "Ituzaingó             570\n",
              "Moreno                429\n",
              "Merlo                 180\n",
              "Hurlingham            128\n",
              "General Rodríguez     122\n",
              "Marcos Paz             64\n",
              "Name: location_name, dtype: int64"
            ]
          },
          "metadata": {},
          "execution_count": 10
        }
      ]
    },
    {
      "cell_type": "markdown",
      "source": [
        "La división que se tiene en el dataset es por partido, y los precios por partido tienen una variación muy alta como para estudiarla"
      ],
      "metadata": {
        "id": "KowEMdhV8tu0"
      }
    },
    {
      "cell_type": "code",
      "source": [
        "zona= ['Morón', 'La Matanza']\n",
        "data_filtrada=data[data['location_name'].isin(zona)]\n",
        "data_filtrada\n",
        "#barrio =['Morón', 'La Plata']\n",
        "#data_filtrada= data[data['location_name'].isin(zona)]\n",
        "#Graficamos un scatterplot\n",
        "sns.scatterplot(data=data_filtrada, y=\"price\", x=\"surface_covered_in_m2\", hue=\"location_name\", palette= 'pastel')\n",
        "\n",
        "plt.xscale(\"log\")\n",
        "plt.yscale(\"log\")\n",
        "plt.xlabel('Superficie cubierta [m2]')\n",
        "plt.ylabel('Precio [USD]')\n",
        "plt.xlim([10,1000])\n",
        "plt.legend(bbox_to_anchor =(0.6, 0.8), prop={'size': 8})\n",
        "plt.xticks([10,100,1000,1000],[10,100,1000,1000])\n",
        "plt.yticks([1000,10000,100000,1000000,10000000,100000000],[\"1k\",\"10k\",\"100k\",\"1M\",\"10M\",\"100M\"])\n",
        "plt.show()"
      ],
      "metadata": {
        "colab": {
          "base_uri": "https://localhost:8080/",
          "height": 455
        },
        "id": "e5WLyleLAnx9",
        "outputId": "1806ee68-7bdc-4725-ebf7-b5570b60ce83"
      },
      "execution_count": null,
      "outputs": [
        {
          "output_type": "display_data",
          "data": {
            "text/plain": [
              "<Figure size 640x480 with 1 Axes>"
            ],
            "image/png": "[encoded data removed]"
          },
          "metadata": {}
        }
      ]
    },
    {
      "cell_type": "code",
      "source": [
        "def intervalo_de_confianza_dif(data, x1, x2, col='price'):\n",
        "  x1=data[data['location_name'] == x1][col]\n",
        "  x2=data[data['location_name'] == x2][col]\n",
        "  alpha = 0.05                                                 # significance level = 5%\n",
        "  n1, n2 = len(x1), len(x2)                                    # sample sizes\n",
        "  s1, s2 = np.var(x1, ddof=1), np.var(x2, ddof=1)              # sample variances\n",
        "  s = np.sqrt(((n1 - 1) * s1 + (n2 - 1) * s2) / (n1 + n2 - 2)) # pooled standard deviation\n",
        "  df = n1 + n2 - 2                                             # degrees of freedom\n",
        "  t = stats.t.ppf(1 - alpha/2, df)                             # t-critical value for 95% CI\n",
        "\n",
        "  lower = (np.mean(x1) - np.mean(x2)) - t * np.sqrt(1 / len(x1) + 1 / len(x2)) * s\n",
        "  upper = (np.mean(x1) - np.mean(x2)) + t * np.sqrt(1 / len(x1) + 1 / len(x2)) * s\n",
        "  _,pvalor = stats.ttest_ind(x1, x2, equal_var=True)\n",
        "  zero_is_in = lower <= 0 <= upper\n",
        "  return lower, upper, pvalor, zero_is_in\n"
      ],
      "metadata": {
        "id": "kWkjIReJKY13"
      },
      "execution_count": null,
      "outputs": []
    },
    {
      "cell_type": "code",
      "source": [
        "x1 = 'La Matanza'\n",
        "x2 = 'Morón'\n",
        "lower, upper, pvalor, zero_is_in = intervalo_de_confianza_dif(data, x1, x2, 'price')\n",
        "print(f'({lower}, {upper})')\n",
        "print(pvalor)\n",
        "print(zero_is_in)"
      ],
      "metadata": {
        "colab": {
          "base_uri": "https://localhost:8080/"
        },
        "id": "zsHknoSGDBKK",
        "outputId": "e27acfb5-7008-464b-bd3a-11e6f0c45145"
      },
      "execution_count": null,
      "outputs": [
        {
          "output_type": "stream",
          "name": "stdout",
          "text": [
            "(-35088.79509253659, -10358.686873854796)\n",
            "0.000318587830779876\n",
            "False\n"
          ]
        }
      ]
    },
    {
      "cell_type": "markdown",
      "source": [
        "En base a estos datos podemos rechazar la hipotesis de que las medias no tienen una diferencia. Por lo que son distintas como para analizarlas en el mismo dataset"
      ],
      "metadata": {
        "id": "XpU-Kn6JKaQr"
      }
    },
    {
      "cell_type": "markdown",
      "source": [
        "### Zona Sur"
      ],
      "metadata": {
        "id": "qStpLsR5DSoH"
      }
    },
    {
      "cell_type": "markdown",
      "source": [
        "En Zona sur tenemos más cantidad de propiedades. Ahora si sería necesario separar en casas y PHs"
      ],
      "metadata": {
        "id": "ntK4kAOEFAO5"
      }
    },
    {
      "cell_type": "code",
      "source": [
        "data[data['state_name']==\"Bs.As. G.B.A. Zona Sur\"][\"location_name\"].value_counts()"
      ],
      "metadata": {
        "colab": {
          "base_uri": "https://localhost:8080/"
        },
        "id": "qbDrmA2mD022",
        "outputId": "1199c614-31b6-4d91-cb76-4140828a8b5f"
      },
      "execution_count": null,
      "outputs": [
        {
          "output_type": "execute_result",
          "data": {
            "text/plain": [
              "Lomas de Zamora       2808\n",
              "La Plata              1954\n",
              "Lanús                 1424\n",
              "Almirante Brown       1140\n",
              "Quilmes                573\n",
              "Avellaneda             557\n",
              "Esteban Echeverría     490\n",
              "Ezeiza                 377\n",
              "Berazategui            342\n",
              "Presidente Perón       105\n",
              "San Vicente             92\n",
              "Cañuelas                38\n",
              "Florencio Varela        27\n",
              "Name: location_name, dtype: int64"
            ]
          },
          "metadata": {},
          "execution_count": 14
        }
      ]
    },
    {
      "cell_type": "markdown",
      "source": [
        "Partamos de Lomas de Zamora, La Plata, Lanús y Almirante Brown"
      ],
      "metadata": {
        "id": "ZZ-09YGEF09I"
      }
    },
    {
      "cell_type": "code",
      "source": [
        "x1 = 'Lomas de Zamora'\n",
        "x2 = 'La Plata'\n",
        "lower, upper, pvalor, zero_is_in = intervalo_de_confianza_dif(data, x1, x2, 'price')\n",
        "print(f'({lower}, {upper})')\n",
        "print(pvalor)\n",
        "print(zero_is_in)"
      ],
      "metadata": {
        "colab": {
          "base_uri": "https://localhost:8080/"
        },
        "id": "eqQX3USxF4q1",
        "outputId": "8c15421c-f395-4df2-9d39-435c978e400e"
      },
      "execution_count": null,
      "outputs": [
        {
          "output_type": "stream",
          "name": "stdout",
          "text": [
            "(-11793.38036878346, 14377.961524772023)\n",
            "0.8464912968986853\n",
            "True\n"
          ]
        }
      ]
    },
    {
      "cell_type": "code",
      "source": [
        "x1 = 'Lomas de Zamora'\n",
        "x2 = 'La Plata'\n",
        "lower, upper, pvalor, zero_is_in = intervalo_de_confianza_dif(data, x1, x2, 'price')\n",
        "print(f'({lower}, {upper})')\n",
        "print(pvalor)\n",
        "print(zero_is_in)"
      ],
      "metadata": {
        "colab": {
          "base_uri": "https://localhost:8080/"
        },
        "id": "o_dyVGuKGosr",
        "outputId": "6c06b4f6-f84b-45d7-aa42-f18aee728329"
      },
      "execution_count": null,
      "outputs": [
        {
          "output_type": "stream",
          "name": "stdout",
          "text": [
            "(-11793.38036878346, 14377.961524772023)\n",
            "0.8464912968986853\n",
            "True\n"
          ]
        }
      ]
    },
    {
      "cell_type": "code",
      "source": [
        "x1 = 'Lomas de Zamora'\n",
        "x2 = 'Almirante Brown'\n",
        "lower, upper, pvalor, zero_is_in = intervalo_de_confianza_dif(data, x1, x2, 'price')\n",
        "print(f'({lower}, {upper})')\n",
        "print(pvalor)\n",
        "print(zero_is_in)"
      ],
      "metadata": {
        "colab": {
          "base_uri": "https://localhost:8080/"
        },
        "id": "1GZhru6AGtw7",
        "outputId": "7bb036f3-315c-40ac-e926-7c23542d1ae9"
      },
      "execution_count": null,
      "outputs": [
        {
          "output_type": "stream",
          "name": "stdout",
          "text": [
            "(-43097.39615336859, -14175.173203790784)\n",
            "0.00010513743596471274\n",
            "False\n"
          ]
        }
      ]
    },
    {
      "cell_type": "markdown",
      "source": [
        "Rechazo todos excepto Lomas de Zamora y La Plata. Ahora sería util analizar si se usan departamentos o casas"
      ],
      "metadata": {
        "id": "S30RDVleG9K-"
      }
    },
    {
      "cell_type": "code",
      "source": [
        "##print('\\n Casas \\n')\n",
        "print(data[data['state_name']==\"Bs.As. G.B.A. Zona Sur\"][data['property_type']==\"Casa\"][\"location_name\"].value_counts())\n",
        "print('\\n Departamentos \\n')\n",
        "print(data[data['state_name']==\"Bs.As. G.B.A. Zona Sur\"][data['property_type']==\"Departamento\"][\"location_name\"].value_counts())\n",
        "print('\\n PH \\n')\n",
        "print(data[data['state_name']==\"Bs.As. G.B.A. Zona Sur\"][data['property_type']==\"PH\"][\"location_name\"].value_counts())"
      ],
      "metadata": {
        "colab": {
          "base_uri": "https://localhost:8080/"
        },
        "id": "wBHeM1nlHHbI",
        "outputId": "6426e62f-3d65-42b6-8082-542cc3375005"
      },
      "execution_count": null,
      "outputs": [
        {
          "output_type": "stream",
          "name": "stdout",
          "text": [
            "Lomas de Zamora       1322\n",
            "La Plata               870\n",
            "Almirante Brown        857\n",
            "Lanús                  545\n",
            "Esteban Echeverría     403\n",
            "Ezeiza                 233\n",
            "Berazategui            232\n",
            "Quilmes                194\n",
            "Avellaneda             106\n",
            "Presidente Perón       101\n",
            "San Vicente             88\n",
            "Cañuelas                33\n",
            "Florencio Varela        17\n",
            "Name: location_name, dtype: int64\n",
            "\n",
            " Departamentos \n",
            "\n",
            "Lomas de Zamora       1211\n",
            "La Plata               893\n",
            "Lanús                  587\n",
            "Avellaneda             368\n",
            "Quilmes                336\n",
            "Almirante Brown        214\n",
            "Ezeiza                 130\n",
            "Berazategui            107\n",
            "Esteban Echeverría      77\n",
            "Florencio Varela         8\n",
            "Cañuelas                 3\n",
            "San Vicente              3\n",
            "Presidente Perón         1\n",
            "Name: location_name, dtype: int64\n",
            "\n",
            " PH \n",
            "\n",
            "Lanús                 207\n",
            "Lomas de Zamora       140\n",
            "La Plata              116\n",
            "Avellaneda             57\n",
            "Quilmes                36\n",
            "Almirante Brown        30\n",
            "Esteban Echeverría      4\n",
            "Ezeiza                  2\n",
            "Berazategui             1\n",
            "Florencio Varela        1\n",
            "Name: location_name, dtype: int64\n"
          ]
        },
        {
          "output_type": "stream",
          "name": "stderr",
          "text": [
            "<ipython-input-18-d585a0553e04>:2: UserWarning: Boolean Series key will be reindexed to match DataFrame index.\n",
            "  print(data[data['state_name']==\"Bs.As. G.B.A. Zona Sur\"][data['property_type']==\"Casa\"][\"location_name\"].value_counts())\n",
            "<ipython-input-18-d585a0553e04>:4: UserWarning: Boolean Series key will be reindexed to match DataFrame index.\n",
            "  print(data[data['state_name']==\"Bs.As. G.B.A. Zona Sur\"][data['property_type']==\"Departamento\"][\"location_name\"].value_counts())\n",
            "<ipython-input-18-d585a0553e04>:6: UserWarning: Boolean Series key will be reindexed to match DataFrame index.\n",
            "  print(data[data['state_name']==\"Bs.As. G.B.A. Zona Sur\"][data['property_type']==\"PH\"][\"location_name\"].value_counts())\n"
          ]
        }
      ]
    },
    {
      "cell_type": "markdown",
      "source": [
        "Descarto los PH y analizo los departamentos y las casas. Nuevamente hacemos el análisis del intervalo de confianza pero unicamente para casas y para departamentos por separado:"
      ],
      "metadata": {
        "id": "HqvXSS5WHpBv"
      }
    },
    {
      "cell_type": "code",
      "source": [
        "x1 ='Lomas de Zamora'\n",
        "x2 ='La Plata'\n",
        "\n",
        "print('\\n Casas por precio\\n')\n",
        "lower, upper, pvalor, zero_is_in = intervalo_de_confianza_dif(data[data['property_type']==\"Casa\"], x1, x2, 'price')\n",
        "print(f'({lower}, {upper})')\n",
        "print(pvalor)\n",
        "print(zero_is_in)\n",
        "print('\\n Casas por superficie\\n')\n",
        "lower, upper, pvalor, zero_is_in = intervalo_de_confianza_dif(data[data['property_type']==\"Casa\"], x1, x2, 'surface_covered_in_m2')\n",
        "print(f'({lower}, {upper})')\n",
        "print(pvalor)\n",
        "print(zero_is_in)\n",
        "\n",
        "print('\\n Departamentos por precio\\n')\n",
        "lower, upper, pvalor, zero_is_in = intervalo_de_confianza_dif(data[data['property_type']==\"Departamento\"], x1, x2, 'price')\n",
        "print(f'({lower}, {upper})')\n",
        "print(pvalor)\n",
        "print(zero_is_in)\n",
        "\n",
        "\n",
        "print('\\n Departamentos por superficie\\n')\n",
        "lower, upper, pvalor, zero_is_in = intervalo_de_confianza_dif(data[data['property_type']==\"Departamento\"], x1, x2, 'surface_covered_in_m2')\n",
        "print(f'({lower}, {upper})')\n",
        "print(pvalor)\n",
        "print(zero_is_in)"
      ],
      "metadata": {
        "colab": {
          "base_uri": "https://localhost:8080/"
        },
        "id": "kbX6Wo2IGTKx",
        "outputId": "dfe65454-d29b-487e-cbac-a210ce5e540f"
      },
      "execution_count": null,
      "outputs": [
        {
          "output_type": "stream",
          "name": "stdout",
          "text": [
            "\n",
            " Casas por precio\n",
            "\n",
            "(-34045.78898274216, 317.66804639719703)\n",
            "0.054384965881640004\n",
            "True\n",
            "\n",
            " Casas por superficie\n",
            "\n",
            "(-23.919144819986695, 18.21716871273021)\n",
            "0.7907469677691542\n",
            "True\n",
            "\n",
            " Departamentos por precio\n",
            "\n",
            "(4278.5150876520565, 18863.309904546528)\n",
            "0.0018852369458693086\n",
            "False\n",
            "\n",
            " Departamentos por superficie\n",
            "\n",
            "(-7.71201777302201, -0.3498941892721077)\n",
            "0.03186752680608999\n",
            "False\n"
          ]
        }
      ]
    },
    {
      "cell_type": "markdown",
      "source": [
        "Basado en este criterio podríamos trabajar con el conjunto:\n",
        "\n",
        "Casas de La plata y Lomas de Zamora ya que no hubo información suficiente como para rechazarlos y suman 2192 casas"
      ],
      "metadata": {
        "id": "LAi9Xln5Iz0Y"
      }
    },
    {
      "cell_type": "markdown",
      "source": [
        "### Zona Norte"
      ],
      "metadata": {
        "id": "BdEi__NTI9HN"
      }
    },
    {
      "cell_type": "code",
      "source": [
        "print(data[data['state_name'] == \"Bs.As. G.B.A. Zona Norte\"][\"location_name\"].value_counts())\n",
        "\n",
        "\n",
        "print(\"\\n Casas \\n\")\n",
        "\n",
        "print(data[data['state_name'] == \"Bs.As. G.B.A. Zona Norte\"][data['property_type']==\"Casa\"][\"location_name\"].value_counts())\n",
        "\n",
        "print(\"\\n Departamentos \\n\")\n",
        "\n",
        "print(data[data['state_name'] == \"Bs.As. G.B.A. Zona Norte\"][data['property_type']==\"Departamento\"][\"location_name\"].value_counts())\n",
        "\n",
        "print(\"\\n PH \\n\")\n",
        "\n",
        "print(data[data['state_name'] == \"Bs.As. G.B.A. Zona Norte\"][data['property_type']==\"PH\"][\"location_name\"].value_counts())"
      ],
      "metadata": {
        "id": "ppyfIUAeA7w7",
        "colab": {
          "base_uri": "https://localhost:8080/"
        },
        "outputId": "957b8d51-0637-48d7-ddfd-7aac4c52aadd"
      },
      "execution_count": null,
      "outputs": [
        {
          "output_type": "stream",
          "name": "stdout",
          "text": [
            "Tigre                  7617\n",
            "Vicente López          3451\n",
            "San Isidro             2724\n",
            "Pilar                  2676\n",
            "Escobar                1585\n",
            "General San Martín     1377\n",
            "San Fernando            948\n",
            "San Miguel              821\n",
            "Malvinas Argentinas     389\n",
            "José C Paz               93\n",
            "Name: location_name, dtype: int64\n",
            "\n",
            " Casas \n",
            "\n",
            "Tigre                  4317\n",
            "Pilar                  1901\n",
            "Escobar                1503\n",
            "San Isidro             1458\n",
            "Vicente López          1109\n",
            "General San Martín      448\n",
            "San Miguel              408\n",
            "San Fernando            334\n",
            "Malvinas Argentinas     314\n",
            "José C Paz               65\n",
            "Name: location_name, dtype: int64\n",
            "\n",
            " Departamentos \n",
            "\n",
            "Tigre                  3233\n",
            "Vicente López          1904\n",
            "San Isidro              985\n",
            "Pilar                   716\n",
            "General San Martín      595\n",
            "San Fernando            521\n",
            "San Miguel              366\n",
            "Escobar                  59\n",
            "Malvinas Argentinas      53\n",
            "José C Paz               17\n",
            "Name: location_name, dtype: int64\n",
            "\n",
            " PH \n",
            "\n",
            "Vicente López          342\n",
            "General San Martín     252\n",
            "San Isidro             167\n",
            "San Fernando            73\n",
            "Tigre                   21\n",
            "San Miguel              17\n",
            "Malvinas Argentinas      8\n",
            "José C Paz               8\n",
            "Pilar                    7\n",
            "Escobar                  4\n",
            "Name: location_name, dtype: int64\n"
          ]
        },
        {
          "output_type": "stream",
          "name": "stderr",
          "text": [
            "<ipython-input-20-b352caa2b5d4>:6: UserWarning: Boolean Series key will be reindexed to match DataFrame index.\n",
            "  print(data[data['state_name'] == \"Bs.As. G.B.A. Zona Norte\"][data['property_type']==\"Casa\"][\"location_name\"].value_counts())\n",
            "<ipython-input-20-b352caa2b5d4>:10: UserWarning: Boolean Series key will be reindexed to match DataFrame index.\n",
            "  print(data[data['state_name'] == \"Bs.As. G.B.A. Zona Norte\"][data['property_type']==\"Departamento\"][\"location_name\"].value_counts())\n",
            "<ipython-input-20-b352caa2b5d4>:14: UserWarning: Boolean Series key will be reindexed to match DataFrame index.\n",
            "  print(data[data['state_name'] == \"Bs.As. G.B.A. Zona Norte\"][data['property_type']==\"PH\"][\"location_name\"].value_counts())\n"
          ]
        }
      ]
    },
    {
      "cell_type": "markdown",
      "source": [
        "Aca podemos ver que predominan las casas. Analizaré los departamentoso entre Tigre y Vicente Lopez primero\n"
      ],
      "metadata": {
        "id": "ZlYHoNiaDUrA"
      }
    },
    {
      "cell_type": "code",
      "source": [
        "x1 = 'Tigre'\n",
        "x2 = 'Vicente López'\n",
        "lower, upper, pvalor, zero_is_in = intervalo_de_confianza_dif(data[data['property_type']==\"Departamento\"],x1, x2,'price')\n",
        "print(lower,upper)\n",
        "print(pvalor)\n",
        "print(zero_is_in)"
      ],
      "metadata": {
        "colab": {
          "base_uri": "https://localhost:8080/"
        },
        "id": "5tEs8851EPo3",
        "outputId": "df3a43d5-828c-4a7d-dc30-58b6b35e6dde"
      },
      "execution_count": null,
      "outputs": [
        {
          "output_type": "stream",
          "name": "stdout",
          "text": [
            "-74678.41706149635 -55394.37965214729\n",
            "2.8072215306241623e-39\n",
            "False\n"
          ]
        }
      ]
    },
    {
      "cell_type": "markdown",
      "source": [
        "Dan muy distintos por lo que no tendría sentido hacer un analisis de departamentos de estas regiones. Aunque si podriamos analizar departamentos unicamente de Tigre porque son 3233"
      ],
      "metadata": {
        "id": "B8XgAwXMRa1I"
      }
    },
    {
      "cell_type": "code",
      "source": [
        "x1 = 'Tigre'\n",
        "x2 = 'Pilar'\n",
        "\n",
        "lower, upper, pvalor, zero_is_in = intervalo_de_confianza_dif(data[data['property_type']==\"Casa\"],x1, x2,'price')\n",
        "print(lower,upper)\n",
        "print(pvalor)\n",
        "print(zero_is_in)\n",
        "\n",
        "lower, upper, pvalor, zero_is_in = intervalo_de_confianza_dif(data[data['property_type']==\"Casa\"],x1, x2,'price')\n",
        "print(lower,upper)\n",
        "print(pvalor)\n",
        "print(zero_is_in)"
      ],
      "metadata": {
        "colab": {
          "base_uri": "https://localhost:8080/"
        },
        "id": "hw-gh4e8Mu4P",
        "outputId": "798923ed-09cb-468e-ceb9-64eec30513e6"
      },
      "execution_count": null,
      "outputs": [
        {
          "output_type": "stream",
          "name": "stdout",
          "text": [
            "122715.28034365333 162153.38160774234\n",
            "8.020732853065788e-45\n",
            "False\n",
            "122715.28034365333 162153.38160774234\n",
            "8.020732853065788e-45\n",
            "False\n"
          ]
        }
      ]
    },
    {
      "cell_type": "code",
      "source": [
        "x1 = 'Belgrano'\n",
        "x2 = 'Recoleta'\n",
        "lower, upper, pvalor, zero_is_in = intervalo_de_confianza_dif(data,x1, x2,'price')\n",
        "print(lower,upper)\n",
        "print(pvalor)\n",
        "print(zero_is_in)"
      ],
      "metadata": {
        "colab": {
          "base_uri": "https://localhost:8080/"
        },
        "id": "CA8YSAFZMxy8",
        "outputId": "9d54b0ea-a0af-4f02-e9cb-2897ee90a157"
      },
      "execution_count": null,
      "outputs": [
        {
          "output_type": "stream",
          "name": "stdout",
          "text": [
            "-61748.46578555774 -17983.32235181613\n",
            "0.0003584092690760059\n",
            "False\n"
          ]
        }
      ]
    },
    {
      "cell_type": "markdown",
      "source": [
        "\n",
        "En base al conocimiento que tenemos de estas zonas consideramos hacer las siguientes comparaciones:\n",
        "\n",
        "Tigre- Pilar\n",
        "\n",
        "Tigre - Escobar\n",
        "\n",
        "Escobar - Tigre\n",
        "\n",
        "\n",
        "Al considerarlos una zona de barrios privados\n",
        "\n",
        "Luego por otro lado comparar San isidro y Vicente lopez por ser más urbanos"
      ],
      "metadata": {
        "id": "T7G7PDJ0RBjr"
      }
    },
    {
      "cell_type": "code",
      "source": [
        "x1 = 'Escobar'\n",
        "x2 = 'Tigre'\n",
        "\n",
        "lower, upper, pvalor, zero_is_in = intervalo_de_confianza_dif(data[data['property_type']==\"Casa\"],x1, x2,'price')\n",
        "print(lower,upper)\n",
        "print(pvalor)\n",
        "print(zero_is_in)\n",
        "\n",
        "lower, upper, pvalor, zero_is_in = intervalo_de_confianza_dif(data[data['property_type']==\"Casa\"],x1, x2,'surface_covered_in_m2')\n",
        "print(lower,upper)\n",
        "print(pvalor)\n",
        "print(zero_is_in)\n",
        "\n",
        "x1 = 'Escobar'\n",
        "x2 = 'Pilar'\n",
        "\n",
        "lower, upper, pvalor, zero_is_in = intervalo_de_confianza_dif(data[data['property_type']==\"Casa\"],x1, x2,'price')\n",
        "print(lower,upper)\n",
        "print(pvalor)\n",
        "print(zero_is_in)\n",
        "\n",
        "lower, upper, pvalor, zero_is_in = intervalo_de_confianza_dif(data[data['property_type']==\"Casa\"],x1, x2,'surface_covered_in_m2')\n",
        "print(lower,upper)\n",
        "print(pvalor)\n",
        "print(zero_is_in)"
      ],
      "metadata": {
        "colab": {
          "base_uri": "https://localhost:8080/"
        },
        "id": "g1TZ0mNjRkW0",
        "outputId": "c956ade9-7a37-4f64-d4db-d2fa724607fb"
      },
      "execution_count": null,
      "outputs": [
        {
          "output_type": "stream",
          "name": "stdout",
          "text": [
            "-266782.2086099572 -225869.0418822925\n",
            "9.941570372258594e-118\n",
            "False\n",
            "-99.233715488022 -30.496406847802028\n",
            "0.00021769889266396442\n",
            "False\n",
            "-120198.64227105766 -87583.94626979639\n",
            "4.849151158402746e-35\n",
            "False\n",
            "-109.39022173907527 -41.01178572066773\n",
            "1.6594313522891033e-05\n",
            "False\n"
          ]
        }
      ]
    },
    {
      "cell_type": "markdown",
      "source": [
        "Descarto Escobar por ser muy distintas al resto"
      ],
      "metadata": {
        "id": "K1kDJlRRR-it"
      }
    },
    {
      "cell_type": "code",
      "source": [
        "x1 = 'Tigre'\n",
        "x2 = 'Pilar'\n",
        "\n",
        "lower, upper, pvalor, zero_is_in = intervalo_de_confianza_dif(data[data['property_type']==\"Casa\"],x1, x2,'price')\n",
        "print(lower,upper)\n",
        "print(pvalor)\n",
        "print(zero_is_in)\n",
        "\n",
        "lower, upper, pvalor, zero_is_in = intervalo_de_confianza_dif(data[data['property_type']==\"Casa\"],x1, x2,'surface_covered_in_m2')\n",
        "print(lower,upper)\n",
        "print(pvalor)\n",
        "print(zero_is_in)"
      ],
      "metadata": {
        "colab": {
          "base_uri": "https://localhost:8080/"
        },
        "id": "0PTHKwSNSL-M",
        "outputId": "896a810a-841a-48b6-972b-708d8d150b67"
      },
      "execution_count": null,
      "outputs": [
        {
          "output_type": "stream",
          "name": "stdout",
          "text": [
            "122715.28034365333 162153.38160774234\n",
            "8.020732853065788e-45\n",
            "False\n",
            "-46.2696399557721 25.59775483185313\n",
            "0.5728613104337295\n",
            "True\n"
          ]
        }
      ]
    },
    {
      "cell_type": "markdown",
      "source": [
        "Tigre y Pilar tienen precios muy distintos así que nuevamente se considera que no se pueden trabajar en conjunto"
      ],
      "metadata": {
        "id": "s2ekLW7_SQTV"
      }
    },
    {
      "cell_type": "code",
      "source": [
        "x1 = 'Vicente López'\n",
        "x2 = 'San Isidro'\n",
        "\n",
        "\n",
        "print(\"\\n Casas \\n\")\n",
        "\n",
        "lower, upper, pvalor, zero_is_in = intervalo_de_confianza_dif(data[data['property_type']==\"Casa\"],x1, x2,'price')\n",
        "print(lower,upper)\n",
        "print(pvalor)\n",
        "print(zero_is_in)\n",
        "\n",
        "lower, upper, pvalor, zero_is_in = intervalo_de_confianza_dif(data[data['property_type']==\"Casa\"],x1, x2,'surface_covered_in_m2')\n",
        "print(lower,upper)\n",
        "print(pvalor)\n",
        "print(zero_is_in)\n",
        "print(\"\\n Departamento \\n\")\n",
        "lower, upper, pvalor, zero_is_in = intervalo_de_confianza_dif(data[data['property_type']==\"Departamento\"],x1, x2,'price')\n",
        "print(lower,upper)\n",
        "print(pvalor)\n",
        "print(zero_is_in)\n",
        "\n",
        "lower, upper, pvalor, zero_is_in = intervalo_de_confianza_dif(data[data['property_type']==\"Departamento\"],x1, x2,'surface_covered_in_m2')\n",
        "print(lower,upper)\n",
        "print(pvalor)\n",
        "print(zero_is_in)"
      ],
      "metadata": {
        "colab": {
          "base_uri": "https://localhost:8080/"
        },
        "id": "jDduvMZcSUn7",
        "outputId": "69e0842a-2361-4344-ae7d-77e80ee36cd1"
      },
      "execution_count": null,
      "outputs": [
        {
          "output_type": "stream",
          "name": "stdout",
          "text": [
            "\n",
            " Casas \n",
            "\n",
            "-207109.26496979618 -107213.35434517392\n",
            "7.914546283758254e-10\n",
            "False\n",
            "-84.62132656968241 -51.28919841544378\n",
            "1.9337022425846312e-15\n",
            "False\n",
            "\n",
            " Departamento \n",
            "\n",
            "-1690.854016800764 31297.552231619662\n",
            "0.07855068814921766\n",
            "True\n",
            "-28.124509062509105 5.34934014214906\n",
            "0.18227855314119992\n",
            "True\n"
          ]
        }
      ]
    },
    {
      "cell_type": "markdown",
      "source": [],
      "metadata": {
        "id": "vJuPWOKojqmB"
      }
    },
    {
      "cell_type": "markdown",
      "source": [
        "Con esto podriamos concluir que no podemos combinar las casas de San Isidro y de Vicente Lopez pero si podriamos combinar los departamentos"
      ],
      "metadata": {
        "id": "xA0d8KHFToz_"
      }
    },
    {
      "cell_type": "markdown",
      "source": [
        "### Capital Federal"
      ],
      "metadata": {
        "id": "H6Z3gHyLYA9Y"
      }
    },
    {
      "cell_type": "code",
      "source": [
        "print(\"\\n Casas \\n\")\n",
        "\n",
        "print(data[data['state_name'] == \"Capital Federal\"][data['property_type']==\"Casa\"][\"location_name\"].value_counts())\n",
        "\n",
        "\n",
        "print(\"\\n PH \\n\")\n",
        "\n",
        "print(data[data['state_name'] == \"Capital Federal\"][data['property_type']==\"PH\"][\"location_name\"].value_counts())"
      ],
      "metadata": {
        "id": "IdislIVnlHVI",
        "colab": {
          "base_uri": "https://localhost:8080/"
        },
        "outputId": "905e42c9-7fc1-404b-ebc7-1f3e2a214a95"
      },
      "execution_count": null,
      "outputs": [
        {
          "output_type": "stream",
          "name": "stdout",
          "text": [
            "\n",
            " Casas \n",
            "\n",
            "Palermo              99\n",
            "Belgrano             97\n",
            "Mataderos            90\n",
            "Flores               84\n",
            "Villa Devoto         72\n",
            "Floresta             66\n",
            "Caballito            62\n",
            "Villa Urquiza        59\n",
            "Villa Lugano         54\n",
            "Villa del Parque     43\n",
            "Barracas             42\n",
            "Saavedra             41\n",
            "Nuñez                39\n",
            "Boedo                38\n",
            "Liniers              37\n",
            "Villa Pueyrredon     30\n",
            "Villa Crespo         30\n",
            "Parque Chacabuco     30\n",
            "Villa Luro           30\n",
            "Almagro              29\n",
            "Colegiales           24\n",
            "Versalles            21\n",
            "La Boca              20\n",
            "Parque Patricios     18\n",
            "Paternal             18\n",
            "San Cristobal        17\n",
            "Nueva Pompeya        17\n",
            "Coghlan              16\n",
            "Parque Avellaneda    12\n",
            "San Telmo            12\n",
            "Velez Sarsfield      11\n",
            "Monte Castro         11\n",
            "Villa Gral. Mitre    11\n",
            "Recoleta             10\n",
            "Balvanera             8\n",
            "Villa Santa Rita      6\n",
            "Villa Real            6\n",
            "Chacarita             6\n",
            "Constitucion          5\n",
            "Parque Chas           5\n",
            "Villa Ortuzar         5\n",
            "Monserrat             5\n",
            "Puerto Madero         4\n",
            "Villa Soldati         3\n",
            "San Nicolas           3\n",
            "Retiro                2\n",
            "Villa Riachuelo       2\n",
            "Agronomia             2\n",
            "Name: location_name, dtype: int64\n",
            "\n",
            " PH \n",
            "\n",
            "Palermo              126\n",
            "Mataderos            105\n",
            "Flores                94\n",
            "Villa Urquiza         84\n",
            "Villa Crespo          81\n",
            "Caballito             75\n",
            "Floresta              70\n",
            "Liniers               64\n",
            "Almagro               63\n",
            "Villa Devoto          59\n",
            "Balvanera             52\n",
            "Villa del Parque      45\n",
            "San Cristobal         45\n",
            "Belgrano              43\n",
            "Saavedra              42\n",
            "Barracas              39\n",
            "Villa Lugano          39\n",
            "Villa Luro            35\n",
            "Paternal              35\n",
            "Parque Patricios      35\n",
            "Villa Pueyrredon      32\n",
            "Colegiales            31\n",
            "Boedo                 30\n",
            "San Telmo             27\n",
            "Nuñez                 27\n",
            "Parque Chacabuco      25\n",
            "Villa Real            22\n",
            "Recoleta              21\n",
            "Coghlan               20\n",
            "Parque Avellaneda     19\n",
            "Monte Castro          19\n",
            "Constitucion          18\n",
            "Chacarita             17\n",
            "Monserrat             16\n",
            "Velez Sarsfield       15\n",
            "Nueva Pompeya         13\n",
            "Villa Santa Rita      12\n",
            "La Boca               11\n",
            "Versalles             10\n",
            "Villa Gral. Mitre      8\n",
            "Agronomia              7\n",
            "Villa Ortuzar          6\n",
            "San Nicolas            6\n",
            "Parque Chas            3\n",
            "Villa Riachuelo        2\n",
            "Villa Soldati          2\n",
            "Name: location_name, dtype: int64\n"
          ]
        },
        {
          "output_type": "stream",
          "name": "stderr",
          "text": [
            "<ipython-input-27-cb4dab153f51>:3: UserWarning: Boolean Series key will be reindexed to match DataFrame index.\n",
            "  print(data[data['state_name'] == \"Capital Federal\"][data['property_type']==\"Casa\"][\"location_name\"].value_counts())\n",
            "<ipython-input-27-cb4dab153f51>:8: UserWarning: Boolean Series key will be reindexed to match DataFrame index.\n",
            "  print(data[data['state_name'] == \"Capital Federal\"][data['property_type']==\"PH\"][\"location_name\"].value_counts())\n"
          ]
        }
      ]
    },
    {
      "cell_type": "markdown",
      "source": [
        "Descartamos Casas y PHs por ser muy pocas localidades"
      ],
      "metadata": {
        "id": "0FvI5D5MlJi6"
      }
    },
    {
      "cell_type": "code",
      "source": [
        "print(\"\\n Departamentos \\n\")\n",
        "\n",
        "print(data[data['state_name'] == \"Capital Federal\"][data['property_type']==\"Departamento\"][\"location_name\"].value_counts())"
      ],
      "metadata": {
        "id": "7GB_GzQSlLaj",
        "colab": {
          "base_uri": "https://localhost:8080/"
        },
        "outputId": "e660abca-7393-4c83-e448-59711ed77564"
      },
      "execution_count": null,
      "outputs": [
        {
          "output_type": "stream",
          "name": "stdout",
          "text": [
            "\n",
            " Departamentos \n",
            "\n",
            "Palermo              3081\n",
            "Recoleta             2155\n",
            "Belgrano             2108\n",
            "Caballito            1892\n",
            "Villa Urquiza        1042\n",
            "Balvanera             981\n",
            "Flores                941\n",
            "Villa Crespo          934\n",
            "Almagro               806\n",
            "Boedo                 730\n",
            "San Telmo             715\n",
            "Nuñez                 560\n",
            "Puerto Madero         523\n",
            "San Cristobal         475\n",
            "Monserrat             427\n",
            "Saavedra              407\n",
            "San Nicolas           366\n",
            "Villa del Parque      335\n",
            "Barracas              284\n",
            "Villa Luro            264\n",
            "Floresta              260\n",
            "Colegiales            246\n",
            "Villa Devoto          221\n",
            "Coghlan               198\n",
            "Retiro                186\n",
            "Parque Patricios      178\n",
            "Chacarita             169\n",
            "Constitucion          158\n",
            "Liniers               146\n",
            "La Boca               123\n",
            "Mataderos             119\n",
            "Villa Pueyrredon      101\n",
            "Paternal               77\n",
            "Villa Lugano           77\n",
            "Villa Ortuzar          65\n",
            "Parque Chacabuco       65\n",
            "Monte Castro           40\n",
            "Parque Chas            34\n",
            "Villa Santa Rita       30\n",
            "Villa Gral. Mitre      28\n",
            "Agronomia              27\n",
            "Parque Avellaneda      22\n",
            "Versalles              18\n",
            "Nueva Pompeya          15\n",
            "Velez Sarsfield        10\n",
            "Villa Real              8\n",
            "Villa Soldati           7\n",
            "Villa Riachuelo         1\n",
            "Name: location_name, dtype: int64\n"
          ]
        },
        {
          "output_type": "stream",
          "name": "stderr",
          "text": [
            "<ipython-input-28-7e1a7e080466>:3: UserWarning: Boolean Series key will be reindexed to match DataFrame index.\n",
            "  print(data[data['state_name'] == \"Capital Federal\"][data['property_type']==\"Departamento\"][\"location_name\"].value_counts())\n"
          ]
        }
      ]
    },
    {
      "cell_type": "markdown",
      "source": [
        "La cantidad de departamentos si es una cantidad razonable como para hacer un análisis. Analizo las primeras 5:\n",
        "\n",
        "Palermo\n",
        "\n",
        "Recoleta            \n",
        "Belgrano             \n",
        "Caballito            \n",
        "Villa Urquiza"
      ],
      "metadata": {
        "id": "aERdWoS4lNub"
      }
    },
    {
      "cell_type": "code",
      "source": [
        "x1 = 'Caballito'\n",
        "x2 = 'Palermo'\n",
        "\n",
        "lower, upper, pvalor, zero_is_in = intervalo_de_confianza_dif(data[data['property_type']==\"Departamento\"],x1, x2,'price')\n",
        "print(lower,upper)\n",
        "print(pvalor)\n",
        "print(zero_is_in)\n",
        "\n",
        "lower, upper, pvalor, zero_is_in = intervalo_de_confianza_dif(data[data['property_type']==\"Departamento\"],x1, x2,'surface_covered_in_m2')\n",
        "print(lower,upper)\n",
        "print(pvalor)\n",
        "print(zero_is_in)\n",
        "\n",
        "x2='Belgrano'\n",
        "\n",
        "lower, upper, pvalor, zero_is_in = intervalo_de_confianza_dif(data[data['property_type']==\"Departamento\"],x1, x2,'price')\n",
        "print(lower,upper)\n",
        "print(pvalor)\n",
        "print(zero_is_in)\n",
        "\n",
        "lower, upper, pvalor, zero_is_in = intervalo_de_confianza_dif(data[data['property_type']==\"Departamento\"],x1, x2,'surface_covered_in_m2')\n",
        "print(lower,upper)\n",
        "print(pvalor)\n",
        "print(zero_is_in)\n",
        "\n",
        "x2='Recoleta'\n",
        "\n",
        "lower, upper, pvalor, zero_is_in = intervalo_de_confianza_dif(data[data['property_type']==\"Departamento\"],x1, x2,'price')\n",
        "print(lower,upper)\n",
        "print(pvalor)\n",
        "print(zero_is_in)\n",
        "\n",
        "lower, upper, pvalor, zero_is_in = intervalo_de_confianza_dif(data[data['property_type']==\"Departamento\"],x1, x2,'surface_covered_in_m2')\n",
        "print(lower,upper)\n",
        "print(pvalor)\n",
        "print(zero_is_in)\n",
        "\n",
        "x2='Villa Urquiza'\n",
        "\n",
        "lower, upper, pvalor, zero_is_in = intervalo_de_confianza_dif(data[data['property_type']==\"Departamento\"],x1, x2,'price')\n",
        "print(lower,upper)\n",
        "print(pvalor)\n",
        "print(zero_is_in)\n",
        "\n",
        "lower, upper, pvalor, zero_is_in = intervalo_de_confianza_dif(data[data['property_type']==\"Departamento\"],x1, x2,'surface_covered_in_m2')\n",
        "print(lower,upper)\n",
        "print(pvalor)\n",
        "print(zero_is_in)"
      ],
      "metadata": {
        "id": "HaRMY5JflQLK",
        "colab": {
          "base_uri": "https://localhost:8080/"
        },
        "outputId": "7323b09a-8e67-4e8f-ec54-a1b01671661b"
      },
      "execution_count": null,
      "outputs": [
        {
          "output_type": "stream",
          "name": "stdout",
          "text": [
            "-178872.10686875042 -138980.50085450464\n",
            "9.806198558569453e-54\n",
            "False\n",
            "-25.660205289454453 -10.003784327052118\n",
            "8.156879795552308e-06\n",
            "False\n",
            "-152890.8100104777 -119556.3844425473\n",
            "4.679407025079883e-56\n",
            "False\n",
            "-36.129690423500534 -16.130087990354266\n",
            "3.148741726470508e-07\n",
            "False\n",
            "-212323.40225492604 -179646.9209631175\n",
            "9.734171407420224e-115\n",
            "False\n",
            "-309.1657418601442 54.000417696367464\n",
            "0.16843124402480833\n",
            "True\n",
            "11975.950506280196 30644.935223309592\n",
            "7.88060586252812e-06\n",
            "False\n",
            "4.82898046835234 20.477426912152694\n",
            "0.0015351971763460062\n",
            "False\n"
          ]
        }
      ]
    },
    {
      "cell_type": "markdown",
      "source": [
        "Descarto Caballito por ser distinto a todos en precio"
      ],
      "metadata": {
        "id": "VGosXEwplSOb"
      }
    },
    {
      "cell_type": "code",
      "source": [
        "x1 = 'Villa Urquiza'\n",
        "x2 = 'Palermo'\n",
        "\n",
        "lower, upper, pvalor, zero_is_in = intervalo_de_confianza_dif(data[data['property_type']==\"Departamento\"],x1, x2,'price')\n",
        "print(lower,upper)\n",
        "print(pvalor)\n",
        "print(zero_is_in)\n",
        "\n",
        "lower, upper, pvalor, zero_is_in = intervalo_de_confianza_dif(data[data['property_type']==\"Departamento\"],x1, x2,'surface_covered_in_m2')\n",
        "print(lower,upper)\n",
        "print(pvalor)\n",
        "print(zero_is_in)\n",
        "\n",
        "x2='Belgrano'\n",
        "\n",
        "lower, upper, pvalor, zero_is_in = intervalo_de_confianza_dif(data[data['property_type']==\"Departamento\"],x1, x2,'price')\n",
        "print(lower,upper)\n",
        "print(pvalor)\n",
        "print(zero_is_in)\n",
        "\n",
        "lower, upper, pvalor, zero_is_in = intervalo_de_confianza_dif(data[data['property_type']==\"Departamento\"],x1, x2,'surface_covered_in_m2')\n",
        "print(lower,upper)\n",
        "print(pvalor)\n",
        "print(zero_is_in)\n",
        "\n",
        "x2='Recoleta'\n",
        "\n",
        "lower, upper, pvalor, zero_is_in = intervalo_de_confianza_dif(data[data['property_type']==\"Departamento\"],x1, x2,'price')\n",
        "print(lower,upper)\n",
        "print(pvalor)\n",
        "print(zero_is_in)\n",
        "\n",
        "lower, upper, pvalor, zero_is_in = intervalo_de_confianza_dif(data[data['property_type']==\"Departamento\"],x1, x2,'surface_covered_in_m2')\n",
        "print(lower,upper)\n",
        "print(pvalor)\n",
        "print(zero_is_in)\n"
      ],
      "metadata": {
        "id": "FpwRA2milUew",
        "colab": {
          "base_uri": "https://localhost:8080/"
        },
        "outputId": "947ead70-923c-4409-b36c-4cd4c05cd51a"
      },
      "execution_count": null,
      "outputs": [
        {
          "output_type": "stream",
          "name": "stdout",
          "text": [
            "-206403.47330797208 -154070.02014487277\n",
            "1.071081292173877e-40\n",
            "False\n",
            "-39.16851032859045 -21.801886668421155\n",
            "6.745368463332269e-12\n",
            "False\n",
            "-178730.51180362876 -136337.56837898603\n",
            "1.3427738895054819e-46\n",
            "False\n",
            "-50.1473664591021 -27.418819335257737\n",
            "2.606549268654536e-11\n",
            "False\n",
            "-238050.65471571445 -196540.55423191888\n",
            "4.610856354956847e-88\n",
            "False\n",
            "-384.84857621383713 104.3768446695554\n",
            "0.26106847079862305\n",
            "True\n"
          ]
        }
      ]
    },
    {
      "cell_type": "markdown",
      "source": [
        "Descarto Villa Urquiza por ser muy distinto al resto"
      ],
      "metadata": {
        "id": "nePAc194lYn2"
      }
    },
    {
      "cell_type": "markdown",
      "source": [
        "Palermo, Recoleta y Belgrano podrian usarse cada uno por separado al tener más de 2000 muestras cada uno. De todas formas planteamos la combinación a ver que se obtiene"
      ],
      "metadata": {
        "id": "oHrScQr5lZel"
      }
    },
    {
      "cell_type": "code",
      "source": [
        "x1 = 'Belgrano'\n",
        "x2 = 'Palermo'\n",
        "\n",
        "lower, upper, pvalor, zero_is_in = intervalo_de_confianza_dif(data[data['property_type']==\"Departamento\"],x1, x2,'price')\n",
        "print(lower,upper)\n",
        "print(pvalor)\n",
        "print(zero_is_in)\n",
        "\n",
        "lower, upper, pvalor, zero_is_in = intervalo_de_confianza_dif(data[data['property_type']==\"Departamento\"],x1, x2,'surface_covered_in_m2')\n",
        "print(lower,upper)\n",
        "print(pvalor)\n",
        "print(zero_is_in)\n"
      ],
      "metadata": {
        "colab": {
          "base_uri": "https://localhost:8080/"
        },
        "id": "s3dkx5pllYZQ",
        "outputId": "e1451222-3c8b-4492-cdca-8df4eec9d234"
      },
      "execution_count": null,
      "outputs": [
        {
          "output_type": "stream",
          "name": "stdout",
          "text": [
            "-44668.4156626818 -736.9976075482518\n",
            "0.042795590026135595\n",
            "False\n",
            "-0.6509945572096161 17.24678335455785\n",
            "0.06915100640980863\n",
            "True\n"
          ]
        }
      ]
    },
    {
      "cell_type": "code",
      "source": [
        "x1 = 'Recoleta'\n",
        "x2 = 'Palermo'\n",
        "\n",
        "lower, upper, pvalor, zero_is_in = intervalo_de_confianza_dif(data[data['property_type']==\"Departamento\"],x1, x2,'price')\n",
        "print(lower,upper)\n",
        "print(pvalor)\n",
        "print(zero_is_in)\n",
        "\n",
        "lower, upper, pvalor, zero_is_in = intervalo_de_confianza_dif(data[data['property_type']==\"Departamento\"],x1, x2,'surface_covered_in_m2')\n",
        "print(lower,upper)\n",
        "print(pvalor)\n",
        "print(zero_is_in)"
      ],
      "metadata": {
        "id": "1VgV2CIeloQM",
        "colab": {
          "base_uri": "https://localhost:8080/"
        },
        "outputId": "701b3bf7-35bb-4ddd-ce6b-afb85cd2c4a1"
      },
      "execution_count": null,
      "outputs": [
        {
          "output_type": "stream",
          "name": "stdout",
          "text": [
            "15401.95427382883 58715.761220959655\n",
            "0.0008003736805742373\n",
            "False\n",
            "-32.591060861463944 252.09239540873406\n",
            "0.13070790798511073\n",
            "True\n"
          ]
        }
      ]
    },
    {
      "cell_type": "code",
      "source": [
        "x1 = 'Belgrano'\n",
        "x2 = 'Recoleta'\n",
        "\n",
        "lower, upper, pvalor, zero_is_in = intervalo_de_confianza_dif(data[data['property_type']==\"Departamento\"],x1, x2,'price')\n",
        "print(lower,upper)\n",
        "print(pvalor)\n",
        "print(zero_is_in)\n",
        "\n",
        "lower, upper, pvalor, zero_is_in = intervalo_de_confianza_dif(data[data['property_type']==\"Departamento\"],x1, x2,'surface_covered_in_m2')\n",
        "print(lower,upper)\n",
        "print(pvalor)\n",
        "print(zero_is_in)"
      ],
      "metadata": {
        "id": "WLwHtd-clqnk",
        "colab": {
          "base_uri": "https://localhost:8080/"
        },
        "outputId": "41ed5287-e7e1-4fdc-eac3-aac4e850fe3c"
      },
      "execution_count": null,
      "outputs": [
        {
          "output_type": "stream",
          "name": "stdout",
          "text": [
            "-80229.60232361197 -39293.526441406575\n",
            "1.1104232169216436e-08\n",
            "False\n",
            "-273.5808230972119 70.67527734729\n",
            "0.24793550221224575\n",
            "True\n"
          ]
        }
      ]
    },
    {
      "cell_type": "markdown",
      "source": [
        "Dado que ninguna combinación incluye al 0 ni tiene un pvalor mayor a 0.05 entonces no podemos rechazar que sean similares por lo que no podemos unirlos"
      ],
      "metadata": {
        "id": "avLIW3F_lvhy"
      }
    },
    {
      "cell_type": "markdown",
      "source": [
        "## Regresion"
      ],
      "metadata": {
        "id": "VbSK68fyhTq1"
      }
    },
    {
      "cell_type": "markdown",
      "source": [
        "Renombramos algunas columnas"
      ],
      "metadata": {
        "id": "4HXTws3EFL8L"
      }
    },
    {
      "cell_type": "code",
      "source": [
        "data.rename(columns={'surface_covered_in_m2':'superficie','price':'precio'}, inplace=True)"
      ],
      "metadata": {
        "id": "HVm-IwZn01ax"
      },
      "execution_count": null,
      "outputs": []
    },
    {
      "cell_type": "markdown",
      "source": [
        "Seleccionamos un barrio dentro de CABA para el análisis de los modelos"
      ],
      "metadata": {
        "id": "4pzJvYIMFQt8"
      }
    },
    {
      "cell_type": "code",
      "source": [
        "data = data[data['location_name']==\"Palermo\"]\n",
        "data = data[data['property_type']==\"Departamento\"]\n",
        "data.drop(columns=['lat', 'lon','rooms','state_name', 'location_name'], inplace=True)"
      ],
      "metadata": {
        "id": "LjD9huOkvoGg"
      },
      "execution_count": null,
      "outputs": []
    },
    {
      "cell_type": "markdown",
      "source": [
        "Vemos correlaciones entre variables"
      ],
      "metadata": {
        "id": "V_oDg52IFco5"
      }
    },
    {
      "cell_type": "code",
      "source": [
        "sns.heatmap(data.corr(), annot=True, vmin=-1, cmap='Blues');"
      ],
      "metadata": {
        "colab": {
          "base_uri": "https://localhost:8080/",
          "height": 574
        },
        "id": "hcnOe4-Lvua-",
        "outputId": "cd536267-8924-483f-9e12-2a8e3dfa894d"
      },
      "execution_count": null,
      "outputs": [
        {
          "output_type": "stream",
          "name": "stderr",
          "text": [
            "<ipython-input-36-b520f95311f7>:1: FutureWarning: The default value of numeric_only in DataFrame.corr is deprecated. In a future version, it will default to False. Select only valid columns or specify the value of numeric_only to silence this warning.\n",
            "  sns.heatmap(data.corr(), annot=True, vmin=-1, cmap='Blues');\n"
          ]
        },
        {
          "output_type": "display_data",
          "data": {
            "text/plain": [
              "<Figure size 640x480 with 2 Axes>"
            ],
            "image/png": "[encoded data removed]"
          },
          "metadata": {}
        }
      ]
    },
    {
      "cell_type": "code",
      "source": [
        "try:\n",
        "  data.drop(index=[43567,29617, 29618,29615,35810,32926,49647,49639,49456,36844,2223], inplace=True)\n",
        "  print(\"droped\")\n",
        "except:\n",
        "  pass\n",
        "print(data)"
      ],
      "metadata": {
        "colab": {
          "base_uri": "https://localhost:8080/"
        },
        "id": "I3nbbicmq1Xr",
        "outputId": "5392b2ae-89b8-43f9-febb-30b7b7ed4e6b"
      },
      "execution_count": null,
      "outputs": [
        {
          "output_type": "stream",
          "name": "stdout",
          "text": [
            "droped\n",
            "       Unnamed: 0.1  Unnamed: 0 property_type    precio  superficie  \\\n",
            "8                13          13  Departamento  111700.0        30.0   \n",
            "9                14          14  Departamento  147900.0        31.0   \n",
            "14               19          19  Departamento  350000.0        96.0   \n",
            "15               21          21  Departamento  270500.0        73.0   \n",
            "30               38          38  Departamento  480000.0       130.0   \n",
            "...             ...         ...           ...       ...         ...   \n",
            "77149        121120      121120  Departamento  160000.0        40.0   \n",
            "77155        121135      121135  Departamento   95000.0        19.0   \n",
            "77156        121136      121136  Departamento  102000.0        33.0   \n",
            "77157        121137      121137  Departamento  115000.0        33.0   \n",
            "77163        121146      121146  Departamento  350000.0        87.0   \n",
            "\n",
            "       price_per_m2  balcon  parrilla  cochera  patio  pileta  lavadero  \n",
            "8       3723.333333    True     False    False  False    True     False  \n",
            "9       4770.967742   False     False    False  False    True     False  \n",
            "14      3645.833333    True     False    False  False   False     False  \n",
            "15      3705.479452   False     False    False  False   False     False  \n",
            "30      3692.307692    True      True     True  False    True     False  \n",
            "...             ...     ...       ...      ...    ...     ...       ...  \n",
            "77149   4000.000000    True      True    False  False   False     False  \n",
            "77155   5000.000000    True     False    False  False   False     False  \n",
            "77156   3090.909091    True     False    False  False   False     False  \n",
            "77157   3484.848485    True     False    False  False   False     False  \n",
            "77163   4022.988506    True     False     True  False   False      True  \n",
            "\n",
            "[3070 rows x 12 columns]\n"
          ]
        }
      ]
    },
    {
      "cell_type": "code",
      "source": [
        "data.sort_values(by=\"superficie\").tail(10)"
      ],
      "metadata": {
        "colab": {
          "base_uri": "https://localhost:8080/",
          "height": 363
        },
        "id": "m-AUAXMnLiuY",
        "outputId": "062053db-884c-4000-ad28-3d8a1e702316"
      },
      "execution_count": null,
      "outputs": [
        {
          "output_type": "execute_result",
          "data": {
            "text/plain": [
              "       Unnamed: 0.1  Unnamed: 0 property_type     precio  superficie  \\\n",
              "25171         38261       38261  Departamento  1100000.0       400.0   \n",
              "1989           5497        5497  Departamento  1600000.0       400.0   \n",
              "25224         38346       38346  Departamento  3000000.0       400.0   \n",
              "29611         44675       44675  Departamento  1850000.0       400.0   \n",
              "55221         81885       81885  Departamento  3000000.0       404.0   \n",
              "7758          14064       14064  Departamento  2900000.0       405.0   \n",
              "32071         48182       48182  Departamento  2300000.0       410.0   \n",
              "42677         62888       62888  Departamento  2200000.0       416.0   \n",
              "854            1276        1276  Departamento  2850000.0       431.0   \n",
              "7526          13729       13729  Departamento  3600000.0       470.0   \n",
              "\n",
              "       price_per_m2  balcon  parrilla  cochera  patio  pileta  lavadero  \n",
              "25171   2750.000000   False     False     True   True   False      True  \n",
              "1989    4000.000000    True     False    False  False    True      True  \n",
              "25224   7500.000000   False     False    False  False   False     False  \n",
              "29611   4625.000000    True     False    False  False   False      True  \n",
              "55221   7425.742574   False     False    False  False    True     False  \n",
              "7758    7160.493827   False     False     True  False   False     False  \n",
              "32071   5609.756098   False     False     True  False   False     False  \n",
              "42677   5288.461538   False     False    False  False   False      True  \n",
              "854     6612.529002    True     False    False   True   False      True  \n",
              "7526    7659.574468   False     False     True  False    True      True  "
            ],
            "text/html": [
              "\n",
              "  <div id=\"df-e3417431-6947-4787-996f-d658c723a6cd\">\n",
              "    <div class=\"colab-df-container\">\n",
              "      <div>\n",
              "<style scoped>\n",
              "    .dataframe tbody tr th:only-of-type {\n",
              "        vertical-align: middle;\n",
              "    }\n",
              "\n",
              "    .dataframe tbody tr th {\n",
              "        vertical-align: top;\n",
              "    }\n",
              "\n",
              "    .dataframe thead th {\n",
              "        text-align: right;\n",
              "    }\n",
              "</style>\n",
              "<table border=\"1\" class=\"dataframe\">\n",
              "  <thead>\n",
              "    <tr style=\"text-align: right;\">\n",
              "      <th></th>\n",
              "      <th>Unnamed: 0.1</th>\n",
              "      <th>Unnamed: 0</th>\n",
              "      <th>property_type</th>\n",
              "      <th>precio</th>\n",
              "      <th>superficie</th>\n",
              "      <th>price_per_m2</th>\n",
              "      <th>balcon</th>\n",
              "      <th>parrilla</th>\n",
              "      <th>cochera</th>\n",
              "      <th>patio</th>\n",
              "      <th>pileta</th>\n",
              "      <th>lavadero</th>\n",
              "    </tr>\n",
              "  </thead>\n",
              "  <tbody>\n",
              "    <tr>\n",
              "      <th>25171</th>\n",
              "      <td>38261</td>\n",
              "      <td>38261</td>\n",
              "      <td>Departamento</td>\n",
              "      <td>1100000.0</td>\n",
              "      <td>400.0</td>\n",
              "      <td>2750.000000</td>\n",
              "      <td>False</td>\n",
              "      <td>False</td>\n",
              "      <td>True</td>\n",
              "      <td>True</td>\n",
              "      <td>False</td>\n",
              "      <td>True</td>\n",
              "    </tr>\n",
              "    <tr>\n",
              "      <th>1989</th>\n",
              "      <td>5497</td>\n",
              "      <td>5497</td>\n",
              "      <td>Departamento</td>\n",
              "      <td>1600000.0</td>\n",
              "      <td>400.0</td>\n",
              "      <td>4000.000000</td>\n",
              "      <td>True</td>\n",
              "      <td>False</td>\n",
              "      <td>False</td>\n",
              "      <td>False</td>\n",
              "      <td>True</td>\n",
              "      <td>True</td>\n",
              "    </tr>\n",
              "    <tr>\n",
              "      <th>25224</th>\n",
              "      <td>38346</td>\n",
              "      <td>38346</td>\n",
              "      <td>Departamento</td>\n",
              "      <td>3000000.0</td>\n",
              "      <td>400.0</td>\n",
              "      <td>7500.000000</td>\n",
              "      <td>False</td>\n",
              "      <td>False</td>\n",
              "      <td>False</td>\n",
              "      <td>False</td>\n",
              "      <td>False</td>\n",
              "      <td>False</td>\n",
              "    </tr>\n",
              "    <tr>\n",
              "      <th>29611</th>\n",
              "      <td>44675</td>\n",
              "      <td>44675</td>\n",
              "      <td>Departamento</td>\n",
              "      <td>1850000.0</td>\n",
              "      <td>400.0</td>\n",
              "      <td>4625.000000</td>\n",
              "      <td>True</td>\n",
              "      <td>False</td>\n",
              "      <td>False</td>\n",
              "      <td>False</td>\n",
              "      <td>False</td>\n",
              "      <td>True</td>\n",
              "    </tr>\n",
              "    <tr>\n",
              "      <th>55221</th>\n",
              "      <td>81885</td>\n",
              "      <td>81885</td>\n",
              "      <td>Departamento</td>\n",
              "      <td>3000000.0</td>\n",
              "      <td>404.0</td>\n",
              "      <td>7425.742574</td>\n",
              "      <td>False</td>\n",
              "      <td>False</td>\n",
              "      <td>False</td>\n",
              "      <td>False</td>\n",
              "      <td>True</td>\n",
              "      <td>False</td>\n",
              "    </tr>\n",
              "    <tr>\n",
              "      <th>7758</th>\n",
              "      <td>14064</td>\n",
              "      <td>14064</td>\n",
              "      <td>Departamento</td>\n",
              "      <td>2900000.0</td>\n",
              "      <td>405.0</td>\n",
              "      <td>7160.493827</td>\n",
              "      <td>False</td>\n",
              "      <td>False</td>\n",
              "      <td>True</td>\n",
              "      <td>False</td>\n",
              "      <td>False</td>\n",
              "      <td>False</td>\n",
              "    </tr>\n",
              "    <tr>\n",
              "      <th>32071</th>\n",
              "      <td>48182</td>\n",
              "      <td>48182</td>\n",
              "      <td>Departamento</td>\n",
              "      <td>2300000.0</td>\n",
              "      <td>410.0</td>\n",
              "      <td>5609.756098</td>\n",
              "      <td>False</td>\n",
              "      <td>False</td>\n",
              "      <td>True</td>\n",
              "      <td>False</td>\n",
              "      <td>False</td>\n",
              "      <td>False</td>\n",
              "    </tr>\n",
              "    <tr>\n",
              "      <th>42677</th>\n",
              "      <td>62888</td>\n",
              "      <td>62888</td>\n",
              "      <td>Departamento</td>\n",
              "      <td>2200000.0</td>\n",
              "      <td>416.0</td>\n",
              "      <td>5288.461538</td>\n",
              "      <td>False</td>\n",
              "      <td>False</td>\n",
              "      <td>False</td>\n",
              "      <td>False</td>\n",
              "      <td>False</td>\n",
              "      <td>True</td>\n",
              "    </tr>\n",
              "    <tr>\n",
              "      <th>854</th>\n",
              "      <td>1276</td>\n",
              "      <td>1276</td>\n",
              "      <td>Departamento</td>\n",
              "      <td>2850000.0</td>\n",
              "      <td>431.0</td>\n",
              "      <td>6612.529002</td>\n",
              "      <td>True</td>\n",
              "      <td>False</td>\n",
              "      <td>False</td>\n",
              "      <td>True</td>\n",
              "      <td>False</td>\n",
              "      <td>True</td>\n",
              "    </tr>\n",
              "    <tr>\n",
              "      <th>7526</th>\n",
              "      <td>13729</td>\n",
              "      <td>13729</td>\n",
              "      <td>Departamento</td>\n",
              "      <td>3600000.0</td>\n",
              "      <td>470.0</td>\n",
              "      <td>7659.574468</td>\n",
              "      <td>False</td>\n",
              "      <td>False</td>\n",
              "      <td>True</td>\n",
              "      <td>False</td>\n",
              "      <td>True</td>\n",
              "      <td>True</td>\n",
              "    </tr>\n",
              "  </tbody>\n",
              "</table>\n",
              "</div>\n",
              "      <button class=\"colab-df-convert\" onclick=\"convertToInteractive('df-e3417431-6947-4787-996f-d658c723a6cd')\"\n",
              "              title=\"Convert this dataframe to an interactive table.\"\n",
              "              style=\"display:none;\">\n",
              "        \n",
              "  <svg xmlns=\"http://www.w3.org/2000/svg\" height=\"24px\"viewBox=\"0 0 24 24\"\n",
              "       width=\"24px\">\n",
              "    <path d=\"M0 0h24v24H0V0z\" fill=\"none\"/>\n",
              "    <path d=\"M18.56 5.44l.94 2.06.94-2.06 2.06-.94-2.06-.94-.94-2.06-.94 2.06-2.06.94zm-11 1L8.5 8.5l.94-2.06 2.06-.94-2.06-.94L8.5 2.5l-.94 2.06-2.06.94zm10 10l.94 2.06.94-2.06 2.06-.94-2.06-.94-.94-2.06-.94 2.06-2.06.94z\"/><path d=\"M17.41 7.96l-1.37-1.37c-.4-.4-.92-.59-1.43-.59-.52 0-1.04.2-1.43.59L10.3 9.45l-7.72 7.72c-.78.78-.78 2.05 0 2.83L4 21.41c.39.39.9.59 1.41.59.51 0 1.02-.2 1.41-.59l7.78-7.78 2.81-2.81c.8-.78.8-2.07 0-2.86zM5.41 20L4 18.59l7.72-7.72 1.47 1.35L5.41 20z\"/>\n",
              "  </svg>\n",
              "      </button>\n",
              "      \n",
              "  <style>\n",
              "    .colab-df-container {\n",
              "      display:flex;\n",
              "      flex-wrap:wrap;\n",
              "      gap: 12px;\n",
              "    }\n",
              "\n",
              "    .colab-df-convert {\n",
              "      background-color: #E8F0FE;\n",
              "      border: none;\n",
              "      border-radius: 50%;\n",
              "      cursor: pointer;\n",
              "      display: none;\n",
              "      fill: #1967D2;\n",
              "      height: 32px;\n",
              "      padding: 0 0 0 0;\n",
              "      width: 32px;\n",
              "    }\n",
              "\n",
              "    .colab-df-convert:hover {\n",
              "      background-color: #E2EBFA;\n",
              "      box-shadow: 0px 1px 2px rgba(60, 64, 67, 0.3), 0px 1px 3px 1px rgba(60, 64, 67, 0.15);\n",
              "      fill: #174EA6;\n",
              "    }\n",
              "\n",
              "    [theme=dark] .colab-df-convert {\n",
              "      background-color: #3B4455;\n",
              "      fill: #D2E3FC;\n",
              "    }\n",
              "\n",
              "    [theme=dark] .colab-df-convert:hover {\n",
              "      background-color: #434B5C;\n",
              "      box-shadow: 0px 1px 3px 1px rgba(0, 0, 0, 0.15);\n",
              "      filter: drop-shadow(0px 1px 2px rgba(0, 0, 0, 0.3));\n",
              "      fill: #FFFFFF;\n",
              "    }\n",
              "  </style>\n",
              "\n",
              "      <script>\n",
              "        const buttonEl =\n",
              "          document.querySelector('#df-e3417431-6947-4787-996f-d658c723a6cd button.colab-df-convert');\n",
              "        buttonEl.style.display =\n",
              "          google.colab.kernel.accessAllowed ? 'block' : 'none';\n",
              "\n",
              "        async function convertToInteractive(key) {\n",
              "          const element = document.querySelector('#df-e3417431-6947-4787-996f-d658c723a6cd');\n",
              "          const dataTable =\n",
              "            await google.colab.kernel.invokeFunction('convertToInteractive',\n",
              "                                                     [key], {});\n",
              "          if (!dataTable) return;\n",
              "\n",
              "          const docLinkHtml = 'Like what you see? Visit the ' +\n",
              "            '<a target=\"_blank\" href=https://colab.research.google.com/notebooks/data_table.ipynb>data table notebook</a>'\n",
              "            + ' to learn more about interactive tables.';\n",
              "          element.innerHTML = '';\n",
              "          dataTable['output_type'] = 'display_data';\n",
              "          await google.colab.output.renderOutput(dataTable, element);\n",
              "          const docLink = document.createElement('div');\n",
              "          docLink.innerHTML = docLinkHtml;\n",
              "          element.appendChild(docLink);\n",
              "        }\n",
              "      </script>\n",
              "    </div>\n",
              "  </div>\n",
              "  "
            ]
          },
          "metadata": {},
          "execution_count": 38
        }
      ]
    },
    {
      "cell_type": "markdown",
      "source": [
        "Previo a plantear los modelos preparamos las variables, en este caso, con las categóricas formamos dummies y con las numérica hacemos una normalización de los datos"
      ],
      "metadata": {
        "id": "ngT4kMNMFgY0"
      }
    },
    {
      "cell_type": "code",
      "source": [
        "sns.set_style('whitegrid')\n",
        "yticks=[0,10000,40000,100000]\n",
        "sns.relplot(data=data, x='superficie',y='precio');\n"
      ],
      "metadata": {
        "colab": {
          "base_uri": "https://localhost:8080/",
          "height": 506
        },
        "id": "jzkUNIDYJdpi",
        "outputId": "c9343971-551b-45b9-ba6f-058b96189db3"
      },
      "execution_count": null,
      "outputs": [
        {
          "output_type": "display_data",
          "data": {
            "text/plain": [
              "<Figure size 500x500 with 1 Axes>"
            ],
            "image/png": "[encoded data removed]"
          },
          "metadata": {}
        }
      ]
    },
    {
      "cell_type": "code",
      "source": [
        "# crear variables dummies\n",
        "\n",
        "balcon_dummies = pd.get_dummies(data.balcon, prefix='balcon')\n",
        "balcon_dummies.drop(balcon_dummies.columns[0], axis=1, inplace=True)\n",
        "\n",
        "parrilla_dummies = pd.get_dummies(data.parrilla, prefix='parrilla')\n",
        "parrilla_dummies.drop(parrilla_dummies.columns[0], axis=1, inplace=True)\n",
        "\n",
        "cochera_dummies = pd.get_dummies(data.cochera, prefix='cochera')\n",
        "cochera_dummies.drop(cochera_dummies.columns[0], axis=1, inplace=True)\n",
        "\n",
        "pileta_dummies = pd.get_dummies(data.pileta, prefix='pileta')\n",
        "pileta_dummies.drop(pileta_dummies.columns[0], axis=1, inplace=True)\n",
        "\n",
        "lavadero_dummies = pd.get_dummies(data.lavadero, prefix='lavadero')\n",
        "lavadero_dummies.drop(lavadero_dummies.columns[0], axis=1, inplace=True)"
      ],
      "metadata": {
        "id": "ysvptKOTvwjt"
      },
      "execution_count": null,
      "outputs": []
    },
    {
      "cell_type": "code",
      "source": [
        "numericas = ['precio','superficie']\n",
        "\n",
        "X = data[numericas]\n",
        "print(X.shape)\n",
        "scaler = MinMaxScaler()\n",
        "scaler.fit(X)\n",
        "\n",
        "std_numerical_data = scaler.transform(X)\n",
        "std_df = pd.DataFrame(std_numerical_data)\n",
        "std_df.columns = [i for i in numericas]\n",
        "std_df"
      ],
      "metadata": {
        "id": "i6su2j6llqAu",
        "colab": {
          "base_uri": "https://localhost:8080/",
          "height": 441
        },
        "outputId": "ddc21830-a0bb-45ef-8fcc-67a5db9ff409"
      },
      "execution_count": null,
      "outputs": [
        {
          "output_type": "stream",
          "name": "stdout",
          "text": [
            "(3070, 2)\n"
          ]
        },
        {
          "output_type": "execute_result",
          "data": {
            "text/plain": [
              "        precio  superficie\n",
              "0     0.021515    0.032967\n",
              "1     0.031669    0.035165\n",
              "2     0.088359    0.178022\n",
              "3     0.066059    0.127473\n",
              "4     0.124825    0.252747\n",
              "...        ...         ...\n",
              "3065  0.035063    0.054945\n",
              "3066  0.016830    0.008791\n",
              "3067  0.018794    0.039560\n",
              "3068  0.022440    0.039560\n",
              "3069  0.088359    0.158242\n",
              "\n",
              "[3070 rows x 2 columns]"
            ],
            "text/html": [
              "\n",
              "  <div id=\"df-e784e3d0-02ff-418a-9022-665f63ca2d27\">\n",
              "    <div class=\"colab-df-container\">\n",
              "      <div>\n",
              "<style scoped>\n",
              "    .dataframe tbody tr th:only-of-type {\n",
              "        vertical-align: middle;\n",
              "    }\n",
              "\n",
              "    .dataframe tbody tr th {\n",
              "        vertical-align: top;\n",
              "    }\n",
              "\n",
              "    .dataframe thead th {\n",
              "        text-align: right;\n",
              "    }\n",
              "</style>\n",
              "<table border=\"1\" class=\"dataframe\">\n",
              "  <thead>\n",
              "    <tr style=\"text-align: right;\">\n",
              "      <th></th>\n",
              "      <th>precio</th>\n",
              "      <th>superficie</th>\n",
              "    </tr>\n",
              "  </thead>\n",
              "  <tbody>\n",
              "    <tr>\n",
              "      <th>0</th>\n",
              "      <td>0.021515</td>\n",
              "      <td>0.032967</td>\n",
              "    </tr>\n",
              "    <tr>\n",
              "      <th>1</th>\n",
              "      <td>0.031669</td>\n",
              "      <td>0.035165</td>\n",
              "    </tr>\n",
              "    <tr>\n",
              "      <th>2</th>\n",
              "      <td>0.088359</td>\n",
              "      <td>0.178022</td>\n",
              "    </tr>\n",
              "    <tr>\n",
              "      <th>3</th>\n",
              "      <td>0.066059</td>\n",
              "      <td>0.127473</td>\n",
              "    </tr>\n",
              "    <tr>\n",
              "      <th>4</th>\n",
              "      <td>0.124825</td>\n",
              "      <td>0.252747</td>\n",
              "    </tr>\n",
              "    <tr>\n",
              "      <th>...</th>\n",
              "      <td>...</td>\n",
              "      <td>...</td>\n",
              "    </tr>\n",
              "    <tr>\n",
              "      <th>3065</th>\n",
              "      <td>0.035063</td>\n",
              "      <td>0.054945</td>\n",
              "    </tr>\n",
              "    <tr>\n",
              "      <th>3066</th>\n",
              "      <td>0.016830</td>\n",
              "      <td>0.008791</td>\n",
              "    </tr>\n",
              "    <tr>\n",
              "      <th>3067</th>\n",
              "      <td>0.018794</td>\n",
              "      <td>0.039560</td>\n",
              "    </tr>\n",
              "    <tr>\n",
              "      <th>3068</th>\n",
              "      <td>0.022440</td>\n",
              "      <td>0.039560</td>\n",
              "    </tr>\n",
              "    <tr>\n",
              "      <th>3069</th>\n",
              "      <td>0.088359</td>\n",
              "      <td>0.158242</td>\n",
              "    </tr>\n",
              "  </tbody>\n",
              "</table>\n",
              "<p>3070 rows × 2 columns</p>\n",
              "</div>\n",
              "      <button class=\"colab-df-convert\" onclick=\"convertToInteractive('df-e784e3d0-02ff-418a-9022-665f63ca2d27')\"\n",
              "              title=\"Convert this dataframe to an interactive table.\"\n",
              "              style=\"display:none;\">\n",
              "        \n",
              "  <svg xmlns=\"http://www.w3.org/2000/svg\" height=\"24px\"viewBox=\"0 0 24 24\"\n",
              "       width=\"24px\">\n",
              "    <path d=\"M0 0h24v24H0V0z\" fill=\"none\"/>\n",
              "    <path d=\"M18.56 5.44l.94 2.06.94-2.06 2.06-.94-2.06-.94-.94-2.06-.94 2.06-2.06.94zm-11 1L8.5 8.5l.94-2.06 2.06-.94-2.06-.94L8.5 2.5l-.94 2.06-2.06.94zm10 10l.94 2.06.94-2.06 2.06-.94-2.06-.94-.94-2.06-.94 2.06-2.06.94z\"/><path d=\"M17.41 7.96l-1.37-1.37c-.4-.4-.92-.59-1.43-.59-.52 0-1.04.2-1.43.59L10.3 9.45l-7.72 7.72c-.78.78-.78 2.05 0 2.83L4 21.41c.39.39.9.59 1.41.59.51 0 1.02-.2 1.41-.59l7.78-7.78 2.81-2.81c.8-.78.8-2.07 0-2.86zM5.41 20L4 18.59l7.72-7.72 1.47 1.35L5.41 20z\"/>\n",
              "  </svg>\n",
              "      </button>\n",
              "      \n",
              "  <style>\n",
              "    .colab-df-container {\n",
              "      display:flex;\n",
              "      flex-wrap:wrap;\n",
              "      gap: 12px;\n",
              "    }\n",
              "\n",
              "    .colab-df-convert {\n",
              "      background-color: #E8F0FE;\n",
              "      border: none;\n",
              "      border-radius: 50%;\n",
              "      cursor: pointer;\n",
              "      display: none;\n",
              "      fill: #1967D2;\n",
              "      height: 32px;\n",
              "      padding: 0 0 0 0;\n",
              "      width: 32px;\n",
              "    }\n",
              "\n",
              "    .colab-df-convert:hover {\n",
              "      background-color: #E2EBFA;\n",
              "      box-shadow: 0px 1px 2px rgba(60, 64, 67, 0.3), 0px 1px 3px 1px rgba(60, 64, 67, 0.15);\n",
              "      fill: #174EA6;\n",
              "    }\n",
              "\n",
              "    [theme=dark] .colab-df-convert {\n",
              "      background-color: #3B4455;\n",
              "      fill: #D2E3FC;\n",
              "    }\n",
              "\n",
              "    [theme=dark] .colab-df-convert:hover {\n",
              "      background-color: #434B5C;\n",
              "      box-shadow: 0px 1px 3px 1px rgba(0, 0, 0, 0.15);\n",
              "      filter: drop-shadow(0px 1px 2px rgba(0, 0, 0, 0.3));\n",
              "      fill: #FFFFFF;\n",
              "    }\n",
              "  </style>\n",
              "\n",
              "      <script>\n",
              "        const buttonEl =\n",
              "          document.querySelector('#df-e784e3d0-02ff-418a-9022-665f63ca2d27 button.colab-df-convert');\n",
              "        buttonEl.style.display =\n",
              "          google.colab.kernel.accessAllowed ? 'block' : 'none';\n",
              "\n",
              "        async function convertToInteractive(key) {\n",
              "          const element = document.querySelector('#df-e784e3d0-02ff-418a-9022-665f63ca2d27');\n",
              "          const dataTable =\n",
              "            await google.colab.kernel.invokeFunction('convertToInteractive',\n",
              "                                                     [key], {});\n",
              "          if (!dataTable) return;\n",
              "\n",
              "          const docLinkHtml = 'Like what you see? Visit the ' +\n",
              "            '<a target=\"_blank\" href=https://colab.research.google.com/notebooks/data_table.ipynb>data table notebook</a>'\n",
              "            + ' to learn more about interactive tables.';\n",
              "          element.innerHTML = '';\n",
              "          dataTable['output_type'] = 'display_data';\n",
              "          await google.colab.output.renderOutput(dataTable, element);\n",
              "          const docLink = document.createElement('div');\n",
              "          docLink.innerHTML = docLinkHtml;\n",
              "          element.appendChild(docLink);\n",
              "        }\n",
              "      </script>\n",
              "    </div>\n",
              "  </div>\n",
              "  "
            ]
          },
          "metadata": {},
          "execution_count": 41
        }
      ]
    },
    {
      "cell_type": "code",
      "source": [
        "desnormalized = scaler.inverse_transform(std_numerical_data)\n",
        "dst_df = pd.DataFrame(desnormalized)\n",
        "dst_df.columns = [i for i in numericas]\n",
        "dst_df"
      ],
      "metadata": {
        "id": "aYBq4H7qXMuu",
        "colab": {
          "base_uri": "https://localhost:8080/",
          "height": 424
        },
        "outputId": "8a15eef3-23f6-4a82-c3b6-f4ad8429903c"
      },
      "execution_count": null,
      "outputs": [
        {
          "output_type": "execute_result",
          "data": {
            "text/plain": [
              "        precio  superficie\n",
              "0     111700.0        30.0\n",
              "1     147900.0        31.0\n",
              "2     350000.0        96.0\n",
              "3     270500.0        73.0\n",
              "4     480000.0       130.0\n",
              "...        ...         ...\n",
              "3065  160000.0        40.0\n",
              "3066   95000.0        19.0\n",
              "3067  102000.0        33.0\n",
              "3068  115000.0        33.0\n",
              "3069  350000.0        87.0\n",
              "\n",
              "[3070 rows x 2 columns]"
            ],
            "text/html": [
              "\n",
              "  <div id=\"df-f50ae936-20a5-42ae-b0ca-fab4f879138e\">\n",
              "    <div class=\"colab-df-container\">\n",
              "      <div>\n",
              "<style scoped>\n",
              "    .dataframe tbody tr th:only-of-type {\n",
              "        vertical-align: middle;\n",
              "    }\n",
              "\n",
              "    .dataframe tbody tr th {\n",
              "        vertical-align: top;\n",
              "    }\n",
              "\n",
              "    .dataframe thead th {\n",
              "        text-align: right;\n",
              "    }\n",
              "</style>\n",
              "<table border=\"1\" class=\"dataframe\">\n",
              "  <thead>\n",
              "    <tr style=\"text-align: right;\">\n",
              "      <th></th>\n",
              "      <th>precio</th>\n",
              "      <th>superficie</th>\n",
              "    </tr>\n",
              "  </thead>\n",
              "  <tbody>\n",
              "    <tr>\n",
              "      <th>0</th>\n",
              "      <td>111700.0</td>\n",
              "      <td>30.0</td>\n",
              "    </tr>\n",
              "    <tr>\n",
              "      <th>1</th>\n",
              "      <td>147900.0</td>\n",
              "      <td>31.0</td>\n",
              "    </tr>\n",
              "    <tr>\n",
              "      <th>2</th>\n",
              "      <td>350000.0</td>\n",
              "      <td>96.0</td>\n",
              "    </tr>\n",
              "    <tr>\n",
              "      <th>3</th>\n",
              "      <td>270500.0</td>\n",
              "      <td>73.0</td>\n",
              "    </tr>\n",
              "    <tr>\n",
              "      <th>4</th>\n",
              "      <td>480000.0</td>\n",
              "      <td>130.0</td>\n",
              "    </tr>\n",
              "    <tr>\n",
              "      <th>...</th>\n",
              "      <td>...</td>\n",
              "      <td>...</td>\n",
              "    </tr>\n",
              "    <tr>\n",
              "      <th>3065</th>\n",
              "      <td>160000.0</td>\n",
              "      <td>40.0</td>\n",
              "    </tr>\n",
              "    <tr>\n",
              "      <th>3066</th>\n",
              "      <td>95000.0</td>\n",
              "      <td>19.0</td>\n",
              "    </tr>\n",
              "    <tr>\n",
              "      <th>3067</th>\n",
              "      <td>102000.0</td>\n",
              "      <td>33.0</td>\n",
              "    </tr>\n",
              "    <tr>\n",
              "      <th>3068</th>\n",
              "      <td>115000.0</td>\n",
              "      <td>33.0</td>\n",
              "    </tr>\n",
              "    <tr>\n",
              "      <th>3069</th>\n",
              "      <td>350000.0</td>\n",
              "      <td>87.0</td>\n",
              "    </tr>\n",
              "  </tbody>\n",
              "</table>\n",
              "<p>3070 rows × 2 columns</p>\n",
              "</div>\n",
              "      <button class=\"colab-df-convert\" onclick=\"convertToInteractive('df-f50ae936-20a5-42ae-b0ca-fab4f879138e')\"\n",
              "              title=\"Convert this dataframe to an interactive table.\"\n",
              "              style=\"display:none;\">\n",
              "        \n",
              "  <svg xmlns=\"http://www.w3.org/2000/svg\" height=\"24px\"viewBox=\"0 0 24 24\"\n",
              "       width=\"24px\">\n",
              "    <path d=\"M0 0h24v24H0V0z\" fill=\"none\"/>\n",
              "    <path d=\"M18.56 5.44l.94 2.06.94-2.06 2.06-.94-2.06-.94-.94-2.06-.94 2.06-2.06.94zm-11 1L8.5 8.5l.94-2.06 2.06-.94-2.06-.94L8.5 2.5l-.94 2.06-2.06.94zm10 10l.94 2.06.94-2.06 2.06-.94-2.06-.94-.94-2.06-.94 2.06-2.06.94z\"/><path d=\"M17.41 7.96l-1.37-1.37c-.4-.4-.92-.59-1.43-.59-.52 0-1.04.2-1.43.59L10.3 9.45l-7.72 7.72c-.78.78-.78 2.05 0 2.83L4 21.41c.39.39.9.59 1.41.59.51 0 1.02-.2 1.41-.59l7.78-7.78 2.81-2.81c.8-.78.8-2.07 0-2.86zM5.41 20L4 18.59l7.72-7.72 1.47 1.35L5.41 20z\"/>\n",
              "  </svg>\n",
              "      </button>\n",
              "      \n",
              "  <style>\n",
              "    .colab-df-container {\n",
              "      display:flex;\n",
              "      flex-wrap:wrap;\n",
              "      gap: 12px;\n",
              "    }\n",
              "\n",
              "    .colab-df-convert {\n",
              "      background-color: #E8F0FE;\n",
              "      border: none;\n",
              "      border-radius: 50%;\n",
              "      cursor: pointer;\n",
              "      display: none;\n",
              "      fill: #1967D2;\n",
              "      height: 32px;\n",
              "      padding: 0 0 0 0;\n",
              "      width: 32px;\n",
              "    }\n",
              "\n",
              "    .colab-df-convert:hover {\n",
              "      background-color: #E2EBFA;\n",
              "      box-shadow: 0px 1px 2px rgba(60, 64, 67, 0.3), 0px 1px 3px 1px rgba(60, 64, 67, 0.15);\n",
              "      fill: #174EA6;\n",
              "    }\n",
              "\n",
              "    [theme=dark] .colab-df-convert {\n",
              "      background-color: #3B4455;\n",
              "      fill: #D2E3FC;\n",
              "    }\n",
              "\n",
              "    [theme=dark] .colab-df-convert:hover {\n",
              "      background-color: #434B5C;\n",
              "      box-shadow: 0px 1px 3px 1px rgba(0, 0, 0, 0.15);\n",
              "      filter: drop-shadow(0px 1px 2px rgba(0, 0, 0, 0.3));\n",
              "      fill: #FFFFFF;\n",
              "    }\n",
              "  </style>\n",
              "\n",
              "      <script>\n",
              "        const buttonEl =\n",
              "          document.querySelector('#df-f50ae936-20a5-42ae-b0ca-fab4f879138e button.colab-df-convert');\n",
              "        buttonEl.style.display =\n",
              "          google.colab.kernel.accessAllowed ? 'block' : 'none';\n",
              "\n",
              "        async function convertToInteractive(key) {\n",
              "          const element = document.querySelector('#df-f50ae936-20a5-42ae-b0ca-fab4f879138e');\n",
              "          const dataTable =\n",
              "            await google.colab.kernel.invokeFunction('convertToInteractive',\n",
              "                                                     [key], {});\n",
              "          if (!dataTable) return;\n",
              "\n",
              "          const docLinkHtml = 'Like what you see? Visit the ' +\n",
              "            '<a target=\"_blank\" href=https://colab.research.google.com/notebooks/data_table.ipynb>data table notebook</a>'\n",
              "            + ' to learn more about interactive tables.';\n",
              "          element.innerHTML = '';\n",
              "          dataTable['output_type'] = 'display_data';\n",
              "          await google.colab.output.renderOutput(dataTable, element);\n",
              "          const docLink = document.createElement('div');\n",
              "          docLink.innerHTML = docLinkHtml;\n",
              "          element.appendChild(docLink);\n",
              "        }\n",
              "      </script>\n",
              "    </div>\n",
              "  </div>\n",
              "  "
            ]
          },
          "metadata": {},
          "execution_count": 42
        }
      ]
    },
    {
      "cell_type": "markdown",
      "source": [
        "Concatenamos las variables"
      ],
      "metadata": {
        "id": "ULd7g3K2F-du"
      }
    },
    {
      "cell_type": "code",
      "source": [
        "balcon_dummies.reset_index(drop=True, inplace=True)\n",
        "parrilla_dummies.reset_index(drop=True, inplace=True)\n",
        "cochera_dummies.reset_index(drop=True, inplace=True)\n",
        "pileta_dummies.reset_index(drop=True, inplace=True)\n",
        "lavadero_dummies.reset_index(drop=True, inplace=True)\n",
        "\n",
        "data=pd.concat([balcon_dummies, parrilla_dummies, cochera_dummies, pileta_dummies, lavadero_dummies, std_df], axis = 1)\n",
        "data"
      ],
      "metadata": {
        "id": "yKj1UtcPv1yE",
        "colab": {
          "base_uri": "https://localhost:8080/",
          "height": 424
        },
        "outputId": "d06cadf2-570e-4466-c1c9-cef1c4021996"
      },
      "execution_count": null,
      "outputs": [
        {
          "output_type": "execute_result",
          "data": {
            "text/plain": [
              "      balcon_True  parrilla_True  cochera_True  pileta_True  lavadero_True  \\\n",
              "0               1              0             0            1              0   \n",
              "1               0              0             0            1              0   \n",
              "2               1              0             0            0              0   \n",
              "3               0              0             0            0              0   \n",
              "4               1              1             1            1              0   \n",
              "...           ...            ...           ...          ...            ...   \n",
              "3065            1              1             0            0              0   \n",
              "3066            1              0             0            0              0   \n",
              "3067            1              0             0            0              0   \n",
              "3068            1              0             0            0              0   \n",
              "3069            1              0             1            0              1   \n",
              "\n",
              "        precio  superficie  \n",
              "0     0.021515    0.032967  \n",
              "1     0.031669    0.035165  \n",
              "2     0.088359    0.178022  \n",
              "3     0.066059    0.127473  \n",
              "4     0.124825    0.252747  \n",
              "...        ...         ...  \n",
              "3065  0.035063    0.054945  \n",
              "3066  0.016830    0.008791  \n",
              "3067  0.018794    0.039560  \n",
              "3068  0.022440    0.039560  \n",
              "3069  0.088359    0.158242  \n",
              "\n",
              "[3070 rows x 7 columns]"
            ],
            "text/html": [
              "\n",
              "  <div id=\"df-c3a5201e-a32c-4819-8f3f-beabe7100012\">\n",
              "    <div class=\"colab-df-container\">\n",
              "      <div>\n",
              "<style scoped>\n",
              "    .dataframe tbody tr th:only-of-type {\n",
              "        vertical-align: middle;\n",
              "    }\n",
              "\n",
              "    .dataframe tbody tr th {\n",
              "        vertical-align: top;\n",
              "    }\n",
              "\n",
              "    .dataframe thead th {\n",
              "        text-align: right;\n",
              "    }\n",
              "</style>\n",
              "<table border=\"1\" class=\"dataframe\">\n",
              "  <thead>\n",
              "    <tr style=\"text-align: right;\">\n",
              "      <th></th>\n",
              "      <th>balcon_True</th>\n",
              "      <th>parrilla_True</th>\n",
              "      <th>cochera_True</th>\n",
              "      <th>pileta_True</th>\n",
              "      <th>lavadero_True</th>\n",
              "      <th>precio</th>\n",
              "      <th>superficie</th>\n",
              "    </tr>\n",
              "  </thead>\n",
              "  <tbody>\n",
              "    <tr>\n",
              "      <th>0</th>\n",
              "      <td>1</td>\n",
              "      <td>0</td>\n",
              "      <td>0</td>\n",
              "      <td>1</td>\n",
              "      <td>0</td>\n",
              "      <td>0.021515</td>\n",
              "      <td>0.032967</td>\n",
              "    </tr>\n",
              "    <tr>\n",
              "      <th>1</th>\n",
              "      <td>0</td>\n",
              "      <td>0</td>\n",
              "      <td>0</td>\n",
              "      <td>1</td>\n",
              "      <td>0</td>\n",
              "      <td>0.031669</td>\n",
              "      <td>0.035165</td>\n",
              "    </tr>\n",
              "    <tr>\n",
              "      <th>2</th>\n",
              "      <td>1</td>\n",
              "      <td>0</td>\n",
              "      <td>0</td>\n",
              "      <td>0</td>\n",
              "      <td>0</td>\n",
              "      <td>0.088359</td>\n",
              "      <td>0.178022</td>\n",
              "    </tr>\n",
              "    <tr>\n",
              "      <th>3</th>\n",
              "      <td>0</td>\n",
              "      <td>0</td>\n",
              "      <td>0</td>\n",
              "      <td>0</td>\n",
              "      <td>0</td>\n",
              "      <td>0.066059</td>\n",
              "      <td>0.127473</td>\n",
              "    </tr>\n",
              "    <tr>\n",
              "      <th>4</th>\n",
              "      <td>1</td>\n",
              "      <td>1</td>\n",
              "      <td>1</td>\n",
              "      <td>1</td>\n",
              "      <td>0</td>\n",
              "      <td>0.124825</td>\n",
              "      <td>0.252747</td>\n",
              "    </tr>\n",
              "    <tr>\n",
              "      <th>...</th>\n",
              "      <td>...</td>\n",
              "      <td>...</td>\n",
              "      <td>...</td>\n",
              "      <td>...</td>\n",
              "      <td>...</td>\n",
              "      <td>...</td>\n",
              "      <td>...</td>\n",
              "    </tr>\n",
              "    <tr>\n",
              "      <th>3065</th>\n",
              "      <td>1</td>\n",
              "      <td>1</td>\n",
              "      <td>0</td>\n",
              "      <td>0</td>\n",
              "      <td>0</td>\n",
              "      <td>0.035063</td>\n",
              "      <td>0.054945</td>\n",
              "    </tr>\n",
              "    <tr>\n",
              "      <th>3066</th>\n",
              "      <td>1</td>\n",
              "      <td>0</td>\n",
              "      <td>0</td>\n",
              "      <td>0</td>\n",
              "      <td>0</td>\n",
              "      <td>0.016830</td>\n",
              "      <td>0.008791</td>\n",
              "    </tr>\n",
              "    <tr>\n",
              "      <th>3067</th>\n",
              "      <td>1</td>\n",
              "      <td>0</td>\n",
              "      <td>0</td>\n",
              "      <td>0</td>\n",
              "      <td>0</td>\n",
              "      <td>0.018794</td>\n",
              "      <td>0.039560</td>\n",
              "    </tr>\n",
              "    <tr>\n",
              "      <th>3068</th>\n",
              "      <td>1</td>\n",
              "      <td>0</td>\n",
              "      <td>0</td>\n",
              "      <td>0</td>\n",
              "      <td>0</td>\n",
              "      <td>0.022440</td>\n",
              "      <td>0.039560</td>\n",
              "    </tr>\n",
              "    <tr>\n",
              "      <th>3069</th>\n",
              "      <td>1</td>\n",
              "      <td>0</td>\n",
              "      <td>1</td>\n",
              "      <td>0</td>\n",
              "      <td>1</td>\n",
              "      <td>0.088359</td>\n",
              "      <td>0.158242</td>\n",
              "    </tr>\n",
              "  </tbody>\n",
              "</table>\n",
              "<p>3070 rows × 7 columns</p>\n",
              "</div>\n",
              "      <button class=\"colab-df-convert\" onclick=\"convertToInteractive('df-c3a5201e-a32c-4819-8f3f-beabe7100012')\"\n",
              "              title=\"Convert this dataframe to an interactive table.\"\n",
              "              style=\"display:none;\">\n",
              "        \n",
              "  <svg xmlns=\"http://www.w3.org/2000/svg\" height=\"24px\"viewBox=\"0 0 24 24\"\n",
              "       width=\"24px\">\n",
              "    <path d=\"M0 0h24v24H0V0z\" fill=\"none\"/>\n",
              "    <path d=\"M18.56 5.44l.94 2.06.94-2.06 2.06-.94-2.06-.94-.94-2.06-.94 2.06-2.06.94zm-11 1L8.5 8.5l.94-2.06 2.06-.94-2.06-.94L8.5 2.5l-.94 2.06-2.06.94zm10 10l.94 2.06.94-2.06 2.06-.94-2.06-.94-.94-2.06-.94 2.06-2.06.94z\"/><path d=\"M17.41 7.96l-1.37-1.37c-.4-.4-.92-.59-1.43-.59-.52 0-1.04.2-1.43.59L10.3 9.45l-7.72 7.72c-.78.78-.78 2.05 0 2.83L4 21.41c.39.39.9.59 1.41.59.51 0 1.02-.2 1.41-.59l7.78-7.78 2.81-2.81c.8-.78.8-2.07 0-2.86zM5.41 20L4 18.59l7.72-7.72 1.47 1.35L5.41 20z\"/>\n",
              "  </svg>\n",
              "      </button>\n",
              "      \n",
              "  <style>\n",
              "    .colab-df-container {\n",
              "      display:flex;\n",
              "      flex-wrap:wrap;\n",
              "      gap: 12px;\n",
              "    }\n",
              "\n",
              "    .colab-df-convert {\n",
              "      background-color: #E8F0FE;\n",
              "      border: none;\n",
              "      border-radius: 50%;\n",
              "      cursor: pointer;\n",
              "      display: none;\n",
              "      fill: #1967D2;\n",
              "      height: 32px;\n",
              "      padding: 0 0 0 0;\n",
              "      width: 32px;\n",
              "    }\n",
              "\n",
              "    .colab-df-convert:hover {\n",
              "      background-color: #E2EBFA;\n",
              "      box-shadow: 0px 1px 2px rgba(60, 64, 67, 0.3), 0px 1px 3px 1px rgba(60, 64, 67, 0.15);\n",
              "      fill: #174EA6;\n",
              "    }\n",
              "\n",
              "    [theme=dark] .colab-df-convert {\n",
              "      background-color: #3B4455;\n",
              "      fill: #D2E3FC;\n",
              "    }\n",
              "\n",
              "    [theme=dark] .colab-df-convert:hover {\n",
              "      background-color: #434B5C;\n",
              "      box-shadow: 0px 1px 3px 1px rgba(0, 0, 0, 0.15);\n",
              "      filter: drop-shadow(0px 1px 2px rgba(0, 0, 0, 0.3));\n",
              "      fill: #FFFFFF;\n",
              "    }\n",
              "  </style>\n",
              "\n",
              "      <script>\n",
              "        const buttonEl =\n",
              "          document.querySelector('#df-c3a5201e-a32c-4819-8f3f-beabe7100012 button.colab-df-convert');\n",
              "        buttonEl.style.display =\n",
              "          google.colab.kernel.accessAllowed ? 'block' : 'none';\n",
              "\n",
              "        async function convertToInteractive(key) {\n",
              "          const element = document.querySelector('#df-c3a5201e-a32c-4819-8f3f-beabe7100012');\n",
              "          const dataTable =\n",
              "            await google.colab.kernel.invokeFunction('convertToInteractive',\n",
              "                                                     [key], {});\n",
              "          if (!dataTable) return;\n",
              "\n",
              "          const docLinkHtml = 'Like what you see? Visit the ' +\n",
              "            '<a target=\"_blank\" href=https://colab.research.google.com/notebooks/data_table.ipynb>data table notebook</a>'\n",
              "            + ' to learn more about interactive tables.';\n",
              "          element.innerHTML = '';\n",
              "          dataTable['output_type'] = 'display_data';\n",
              "          await google.colab.output.renderOutput(dataTable, element);\n",
              "          const docLink = document.createElement('div');\n",
              "          docLink.innerHTML = docLinkHtml;\n",
              "          element.appendChild(docLink);\n",
              "        }\n",
              "      </script>\n",
              "    </div>\n",
              "  </div>\n",
              "  "
            ]
          },
          "metadata": {},
          "execution_count": 43
        }
      ]
    },
    {
      "cell_type": "markdown",
      "source": [
        "Renombramos columnas y volvemos a ver correlaciones entre las variables que nos interesan para el modelo"
      ],
      "metadata": {
        "id": "hWSwTrVuGEgG"
      }
    },
    {
      "cell_type": "code",
      "source": [
        "data.rename(columns={'balcon_True':'balcon','parrilla_True':'parrilla', 'cochera_True':'cochera', 'pileta_True':'pileta', 'lavadero_True':'lavadero'},inplace=True)"
      ],
      "metadata": {
        "id": "1ST5PNz60MjT"
      },
      "execution_count": null,
      "outputs": []
    },
    {
      "cell_type": "code",
      "source": [
        "variable = ['superficie', 'balcon','parrilla', 'cochera', 'pileta','lavadero']"
      ],
      "metadata": {
        "id": "LST97KLfz6bi"
      },
      "execution_count": null,
      "outputs": []
    },
    {
      "cell_type": "code",
      "source": [
        "a=data[variable]\n",
        "a.corr()"
      ],
      "metadata": {
        "id": "oc9NDqHNv4_u",
        "colab": {
          "base_uri": "https://localhost:8080/",
          "height": 238
        },
        "outputId": "91df1c77-3f11-4c5f-cd5f-7a9e66655968"
      },
      "execution_count": null,
      "outputs": [
        {
          "output_type": "execute_result",
          "data": {
            "text/plain": [
              "            superficie    balcon  parrilla   cochera    pileta  lavadero\n",
              "superficie    1.000000  0.081267 -0.007940  0.193716 -0.044509  0.338408\n",
              "balcon        0.081267  1.000000  0.150372  0.135383  0.075230  0.157168\n",
              "parrilla     -0.007940  0.150372  1.000000  0.076604  0.274569 -0.029320\n",
              "cochera       0.193716  0.135383  0.076604  1.000000  0.135811  0.143504\n",
              "pileta       -0.044509  0.075230  0.274569  0.135811  1.000000 -0.126925\n",
              "lavadero      0.338408  0.157168 -0.029320  0.143504 -0.126925  1.000000"
            ],
            "text/html": [
              "\n",
              "  <div id=\"df-4843feb0-62fc-45b9-9f28-d75c5ac01ef8\">\n",
              "    <div class=\"colab-df-container\">\n",
              "      <div>\n",
              "<style scoped>\n",
              "    .dataframe tbody tr th:only-of-type {\n",
              "        vertical-align: middle;\n",
              "    }\n",
              "\n",
              "    .dataframe tbody tr th {\n",
              "        vertical-align: top;\n",
              "    }\n",
              "\n",
              "    .dataframe thead th {\n",
              "        text-align: right;\n",
              "    }\n",
              "</style>\n",
              "<table border=\"1\" class=\"dataframe\">\n",
              "  <thead>\n",
              "    <tr style=\"text-align: right;\">\n",
              "      <th></th>\n",
              "      <th>superficie</th>\n",
              "      <th>balcon</th>\n",
              "      <th>parrilla</th>\n",
              "      <th>cochera</th>\n",
              "      <th>pileta</th>\n",
              "      <th>lavadero</th>\n",
              "    </tr>\n",
              "  </thead>\n",
              "  <tbody>\n",
              "    <tr>\n",
              "      <th>superficie</th>\n",
              "      <td>1.000000</td>\n",
              "      <td>0.081267</td>\n",
              "      <td>-0.007940</td>\n",
              "      <td>0.193716</td>\n",
              "      <td>-0.044509</td>\n",
              "      <td>0.338408</td>\n",
              "    </tr>\n",
              "    <tr>\n",
              "      <th>balcon</th>\n",
              "      <td>0.081267</td>\n",
              "      <td>1.000000</td>\n",
              "      <td>0.150372</td>\n",
              "      <td>0.135383</td>\n",
              "      <td>0.075230</td>\n",
              "      <td>0.157168</td>\n",
              "    </tr>\n",
              "    <tr>\n",
              "      <th>parrilla</th>\n",
              "      <td>-0.007940</td>\n",
              "      <td>0.150372</td>\n",
              "      <td>1.000000</td>\n",
              "      <td>0.076604</td>\n",
              "      <td>0.274569</td>\n",
              "      <td>-0.029320</td>\n",
              "    </tr>\n",
              "    <tr>\n",
              "      <th>cochera</th>\n",
              "      <td>0.193716</td>\n",
              "      <td>0.135383</td>\n",
              "      <td>0.076604</td>\n",
              "      <td>1.000000</td>\n",
              "      <td>0.135811</td>\n",
              "      <td>0.143504</td>\n",
              "    </tr>\n",
              "    <tr>\n",
              "      <th>pileta</th>\n",
              "      <td>-0.044509</td>\n",
              "      <td>0.075230</td>\n",
              "      <td>0.274569</td>\n",
              "      <td>0.135811</td>\n",
              "      <td>1.000000</td>\n",
              "      <td>-0.126925</td>\n",
              "    </tr>\n",
              "    <tr>\n",
              "      <th>lavadero</th>\n",
              "      <td>0.338408</td>\n",
              "      <td>0.157168</td>\n",
              "      <td>-0.029320</td>\n",
              "      <td>0.143504</td>\n",
              "      <td>-0.126925</td>\n",
              "      <td>1.000000</td>\n",
              "    </tr>\n",
              "  </tbody>\n",
              "</table>\n",
              "</div>\n",
              "      <button class=\"colab-df-convert\" onclick=\"convertToInteractive('df-4843feb0-62fc-45b9-9f28-d75c5ac01ef8')\"\n",
              "              title=\"Convert this dataframe to an interactive table.\"\n",
              "              style=\"display:none;\">\n",
              "        \n",
              "  <svg xmlns=\"http://www.w3.org/2000/svg\" height=\"24px\"viewBox=\"0 0 24 24\"\n",
              "       width=\"24px\">\n",
              "    <path d=\"M0 0h24v24H0V0z\" fill=\"none\"/>\n",
              "    <path d=\"M18.56 5.44l.94 2.06.94-2.06 2.06-.94-2.06-.94-.94-2.06-.94 2.06-2.06.94zm-11 1L8.5 8.5l.94-2.06 2.06-.94-2.06-.94L8.5 2.5l-.94 2.06-2.06.94zm10 10l.94 2.06.94-2.06 2.06-.94-2.06-.94-.94-2.06-.94 2.06-2.06.94z\"/><path d=\"M17.41 7.96l-1.37-1.37c-.4-.4-.92-.59-1.43-.59-.52 0-1.04.2-1.43.59L10.3 9.45l-7.72 7.72c-.78.78-.78 2.05 0 2.83L4 21.41c.39.39.9.59 1.41.59.51 0 1.02-.2 1.41-.59l7.78-7.78 2.81-2.81c.8-.78.8-2.07 0-2.86zM5.41 20L4 18.59l7.72-7.72 1.47 1.35L5.41 20z\"/>\n",
              "  </svg>\n",
              "      </button>\n",
              "      \n",
              "  <style>\n",
              "    .colab-df-container {\n",
              "      display:flex;\n",
              "      flex-wrap:wrap;\n",
              "      gap: 12px;\n",
              "    }\n",
              "\n",
              "    .colab-df-convert {\n",
              "      background-color: #E8F0FE;\n",
              "      border: none;\n",
              "      border-radius: 50%;\n",
              "      cursor: pointer;\n",
              "      display: none;\n",
              "      fill: #1967D2;\n",
              "      height: 32px;\n",
              "      padding: 0 0 0 0;\n",
              "      width: 32px;\n",
              "    }\n",
              "\n",
              "    .colab-df-convert:hover {\n",
              "      background-color: #E2EBFA;\n",
              "      box-shadow: 0px 1px 2px rgba(60, 64, 67, 0.3), 0px 1px 3px 1px rgba(60, 64, 67, 0.15);\n",
              "      fill: #174EA6;\n",
              "    }\n",
              "\n",
              "    [theme=dark] .colab-df-convert {\n",
              "      background-color: #3B4455;\n",
              "      fill: #D2E3FC;\n",
              "    }\n",
              "\n",
              "    [theme=dark] .colab-df-convert:hover {\n",
              "      background-color: #434B5C;\n",
              "      box-shadow: 0px 1px 3px 1px rgba(0, 0, 0, 0.15);\n",
              "      filter: drop-shadow(0px 1px 2px rgba(0, 0, 0, 0.3));\n",
              "      fill: #FFFFFF;\n",
              "    }\n",
              "  </style>\n",
              "\n",
              "      <script>\n",
              "        const buttonEl =\n",
              "          document.querySelector('#df-4843feb0-62fc-45b9-9f28-d75c5ac01ef8 button.colab-df-convert');\n",
              "        buttonEl.style.display =\n",
              "          google.colab.kernel.accessAllowed ? 'block' : 'none';\n",
              "\n",
              "        async function convertToInteractive(key) {\n",
              "          const element = document.querySelector('#df-4843feb0-62fc-45b9-9f28-d75c5ac01ef8');\n",
              "          const dataTable =\n",
              "            await google.colab.kernel.invokeFunction('convertToInteractive',\n",
              "                                                     [key], {});\n",
              "          if (!dataTable) return;\n",
              "\n",
              "          const docLinkHtml = 'Like what you see? Visit the ' +\n",
              "            '<a target=\"_blank\" href=https://colab.research.google.com/notebooks/data_table.ipynb>data table notebook</a>'\n",
              "            + ' to learn more about interactive tables.';\n",
              "          element.innerHTML = '';\n",
              "          dataTable['output_type'] = 'display_data';\n",
              "          await google.colab.output.renderOutput(dataTable, element);\n",
              "          const docLink = document.createElement('div');\n",
              "          docLink.innerHTML = docLinkHtml;\n",
              "          element.appendChild(docLink);\n",
              "        }\n",
              "      </script>\n",
              "    </div>\n",
              "  </div>\n",
              "  "
            ]
          },
          "metadata": {},
          "execution_count": 46
        }
      ]
    },
    {
      "cell_type": "code",
      "source": [
        "sns.heatmap(data[variable].corr(), vmin=0, vmax=1, cmap=\"YlGnBu\");"
      ],
      "metadata": {
        "id": "LB_JoXr6v6qE",
        "colab": {
          "base_uri": "https://localhost:8080/",
          "height": 435
        },
        "outputId": "0230ef38-a05a-4f18-d97c-d4565b0c8f8e"
      },
      "execution_count": null,
      "outputs": [
        {
          "output_type": "display_data",
          "data": {
            "text/plain": [
              "<Figure size 640x480 with 2 Axes>"
            ],
            "image/png": "[encoded data removed]"
          },
          "metadata": {}
        }
      ]
    },
    {
      "cell_type": "markdown",
      "source": [
        "Planteamos un primer modelo de regresión múltiple"
      ],
      "metadata": {
        "id": "v4A5joNBGPQR"
      }
    },
    {
      "cell_type": "code",
      "source": [
        "import numpy.random\n",
        "def train_test_rmse(variable):\n",
        "    seed=numpy.random.seed(4)\n",
        "    X = data[variable]\n",
        "    y = data.precio\n",
        "    Xtrain, Xtest, ytrain, ytest = train_test_split(X, y, shuffle=True,random_state=seed)\n",
        "    linreg = LinearRegression()\n",
        "\n",
        "    linreg.fit(Xtrain, ytrain)\n",
        "\n",
        "    ypred_train = linreg.predict(Xtrain)\n",
        "    ypred_test = linreg.predict(Xtest)\n",
        "    print (variable)\n",
        "    print('\\n')\n",
        "    MAE_train = metrics.mean_absolute_error(ytrain, ypred_train)\n",
        "    MAE_test = metrics.mean_absolute_error(ytest, ypred_test)\n",
        "    print ('MAE train:', MAE_train)\n",
        "    print ('MAE test:', MAE_test)\n",
        "    print(f\"Diferencia: {round((MAE_train/MAE_test)*100, 3)} %\")\n",
        "    print('\\n')\n",
        "    MSE_train = metrics.mean_squared_error(ytrain, ypred_train)\n",
        "    MSE_test = metrics.mean_squared_error(ytest, ypred_test)\n",
        "    print ('MSE train:', MSE_train)\n",
        "    print ('MSE test:', MSE_test)\n",
        "    print(f\"Diferencia: {round((MSE_train/MSE_test)*100, 3)} %\")\n",
        "    print('\\n')\n",
        "    RMSE_train = np.sqrt(metrics.mean_squared_error(ytrain, ypred_train))\n",
        "    RMSE_test = np.sqrt(metrics.mean_squared_error(ytest, ypred_test))\n",
        "    print ('RMSE train:', RMSE_train )\n",
        "    print ('RMSE test:', RMSE_test)\n",
        "    print(f\"Diferencia: {round((RMSE_train/RMSE_test)*100, 3)} %\")\n",
        "    print('\\n')\n",
        "    R2_train = metrics.r2_score(ytrain, ypred_train)\n",
        "    R2_test = metrics.r2_score(ytest, ypred_test)\n",
        "    print ('R2 train:', R2_train)\n",
        "    print ('R2 test:', R2_test)\n",
        "    print(f\"Diferencia: {round((R2_train/R2_test)*100,3)} %\")\n",
        "\n",
        "    return Xtrain, Xtest, ytrain, ytest, MAE_test, MSE_test, RMSE_test, R2_test"
      ],
      "metadata": {
        "id": "r8lcE8ggne3w"
      },
      "execution_count": null,
      "outputs": []
    },
    {
      "cell_type": "markdown",
      "source": [],
      "metadata": {
        "id": "1vRR821rneoh"
      }
    },
    {
      "cell_type": "code",
      "source": [
        "Xtrain, Xtest, ytrain, ytest, MAE_test, MSE_test, RMSE_test, R2_test = train_test_rmse(['superficie', 'parrilla', 'cochera', 'pileta', 'lavadero', 'balcon'])\n",
        "#Xtrain, Xtest, ytrain, ytest= train_test_rmse(['superficie'])"
      ],
      "metadata": {
        "id": "gnE9sZZDV72-",
        "colab": {
          "base_uri": "https://localhost:8080/"
        },
        "outputId": "dfab53d2-9052-4496-e185-5c56229af175"
      },
      "execution_count": null,
      "outputs": [
        {
          "output_type": "stream",
          "name": "stdout",
          "text": [
            "['superficie', 'parrilla', 'cochera', 'pileta', 'lavadero', 'balcon']\n",
            "\n",
            "\n",
            "MAE train: 0.024494308691275803\n",
            "MAE test: 0.024957353735357967\n",
            "Diferencia: 98.145 %\n",
            "\n",
            "\n",
            "MSE train: 0.0020784539797113685\n",
            "MSE test: 0.0025443745120805198\n",
            "Diferencia: 81.688 %\n",
            "\n",
            "\n",
            "RMSE train: 0.04559006448461516\n",
            "RMSE test: 0.05044179330753933\n",
            "Diferencia: 90.382 %\n",
            "\n",
            "\n",
            "R2 train: 0.7808752017745854\n",
            "R2 test: 0.7421386536239744\n",
            "Diferencia: 105.22 %\n"
          ]
        }
      ]
    },
    {
      "cell_type": "code",
      "source": [
        "variable = ['superficie', 'parrilla', 'cochera', 'pileta', 'lavadero', 'balcon']\n",
        "X = data[variable]\n",
        "y = data.precio"
      ],
      "metadata": {
        "id": "XYZNNfZov8cq"
      },
      "execution_count": null,
      "outputs": []
    },
    {
      "cell_type": "code",
      "source": [
        "modelo1 = LinearRegression(fit_intercept=True)\n",
        "modelo1.fit(X, y)\n",
        "\n",
        "coef_scaled = modelo1.coef_\n",
        "intercept_scaled = modelo1.intercept_\n",
        "\n",
        "list(zip(variable, modelo1.coef_))"
      ],
      "metadata": {
        "id": "01rwzr9Mv-ch",
        "colab": {
          "base_uri": "https://localhost:8080/"
        },
        "outputId": "18a99123-40c5-42fc-cb76-581093b40015"
      },
      "execution_count": null,
      "outputs": [
        {
          "output_type": "execute_result",
          "data": {
            "text/plain": [
              "[('superficie', 0.6311879665194216),\n",
              " ('parrilla', -0.004034955429158061),\n",
              " ('cochera', 0.005259900398403552),\n",
              " ('pileta', 0.019040471264134343),\n",
              " ('lavadero', -0.01488115985385166),\n",
              " ('balcon', -0.004275961750205726)]"
            ]
          },
          "metadata": {},
          "execution_count": 52
        }
      ]
    },
    {
      "cell_type": "code",
      "source": [
        "modelo1.intercept_"
      ],
      "metadata": {
        "colab": {
          "base_uri": "https://localhost:8080/"
        },
        "id": "1KAWdVk3QlXz",
        "outputId": "deeda2a2-a8fe-4d99-f1fc-298e46e2b645"
      },
      "execution_count": null,
      "outputs": [
        {
          "output_type": "execute_result",
          "data": {
            "text/plain": [
              "-0.009947361881608649"
            ]
          },
          "metadata": {},
          "execution_count": 67
        }
      ]
    },
    {
      "cell_type": "markdown",
      "source": [
        "Hacemos el mismo modelo pero usando la librería Statsmodels"
      ],
      "metadata": {
        "id": "muqRLOj7ExO4"
      }
    },
    {
      "cell_type": "code",
      "source": [
        "X = data[['superficie', 'parrilla', 'cochera', 'pileta', 'lavadero','balcon']]\n",
        "#X = data[['superficie', 'cochera', 'pileta', 'lavadero','balcon']]\n",
        "#X = data[['superficie']]\n",
        "y = data[[\"precio\"]]\n",
        "X = sm.add_constant(X)\n",
        "modelo2 = sm.OLS(y, X).fit()\n",
        "prediccion = modelo2.predict(X)\n",
        "print (\"EMC:\", mean_squared_error(y, prediccion))\n",
        "\n",
        "modelo2.summary()"
      ],
      "metadata": {
        "colab": {
          "base_uri": "https://localhost:8080/",
          "height": 576
        },
        "id": "XHkVVT4dCXuk",
        "outputId": "58b9de1e-463e-4b33-c38b-d635d3362e80"
      },
      "execution_count": null,
      "outputs": [
        {
          "output_type": "stream",
          "name": "stdout",
          "text": [
            "EMC: 0.0021915048302308788\n"
          ]
        },
        {
          "output_type": "execute_result",
          "data": {
            "text/plain": [
              "<class 'statsmodels.iolib.summary.Summary'>\n",
              "\"\"\"\n",
              "                            OLS Regression Results                            \n",
              "==============================================================================\n",
              "Dep. Variable:                 precio   R-squared:                       0.771\n",
              "Model:                            OLS   Adj. R-squared:                  0.771\n",
              "Method:                 Least Squares   F-statistic:                     1721.\n",
              "Date:                Mon, 03 Jul 2023   Prob (F-statistic):               0.00\n",
              "Time:                        19:56:22   Log-Likelihood:                 5042.9\n",
              "No. Observations:                3070   AIC:                        -1.007e+04\n",
              "Df Residuals:                    3063   BIC:                        -1.003e+04\n",
              "Df Model:                           6                                         \n",
              "Covariance Type:            nonrobust                                         \n",
              "==============================================================================\n",
              "                 coef    std err          t      P>|t|      [0.025      0.975]\n",
              "------------------------------------------------------------------------------\n",
              "const         -0.0099      0.002     -6.029      0.000      -0.013      -0.007\n",
              "superficie     0.6312      0.007     96.075      0.000       0.618       0.644\n",
              "parrilla      -0.0040      0.002     -1.850      0.064      -0.008       0.000\n",
              "cochera        0.0053      0.002      2.669      0.008       0.001       0.009\n",
              "pileta         0.0190      0.002      9.923      0.000       0.015       0.023\n",
              "lavadero      -0.0149      0.002     -7.120      0.000      -0.019      -0.011\n",
              "balcon        -0.0043      0.002     -2.416      0.016      -0.008      -0.001\n",
              "==============================================================================\n",
              "Omnibus:                     2341.849   Durbin-Watson:                   1.783\n",
              "Prob(Omnibus):                  0.000   Jarque-Bera (JB):           155546.879\n",
              "Skew:                           3.042   Prob(JB):                         0.00\n",
              "Kurtosis:                      37.336   Cond. No.                         10.5\n",
              "==============================================================================\n",
              "\n",
              "Notes:\n",
              "[1] Standard Errors assume that the covariance matrix of the errors is correctly specified.\n",
              "\"\"\""
            ],
            "text/html": [
              "<table class=\"simpletable\">\n",
              "<caption>OLS Regression Results</caption>\n",
              "<tr>\n",
              "  <th>Dep. Variable:</th>         <td>precio</td>      <th>  R-squared:         </th>  <td>   0.771</td> \n",
              "</tr>\n",
              "<tr>\n",
              "  <th>Model:</th>                   <td>OLS</td>       <th>  Adj. R-squared:    </th>  <td>   0.771</td> \n",
              "</tr>\n",
              "<tr>\n",
              "  <th>Method:</th>             <td>Least Squares</td>  <th>  F-statistic:       </th>  <td>   1721.</td> \n",
              "</tr>\n",
              "<tr>\n",
              "  <th>Date:</th>             <td>Mon, 03 Jul 2023</td> <th>  Prob (F-statistic):</th>   <td>  0.00</td>  \n",
              "</tr>\n",
              "<tr>\n",
              "  <th>Time:</th>                 <td>19:56:22</td>     <th>  Log-Likelihood:    </th>  <td>  5042.9</td> \n",
              "</tr>\n",
              "<tr>\n",
              "  <th>No. Observations:</th>      <td>  3070</td>      <th>  AIC:               </th> <td>-1.007e+04</td>\n",
              "</tr>\n",
              "<tr>\n",
              "  <th>Df Residuals:</th>          <td>  3063</td>      <th>  BIC:               </th> <td>-1.003e+04</td>\n",
              "</tr>\n",
              "<tr>\n",
              "  <th>Df Model:</th>              <td>     6</td>      <th>                     </th>      <td> </td>    \n",
              "</tr>\n",
              "<tr>\n",
              "  <th>Covariance Type:</th>      <td>nonrobust</td>    <th>                     </th>      <td> </td>    \n",
              "</tr>\n",
              "</table>\n",
              "<table class=\"simpletable\">\n",
              "<tr>\n",
              "       <td></td>         <th>coef</th>     <th>std err</th>      <th>t</th>      <th>P>|t|</th>  <th>[0.025</th>    <th>0.975]</th>  \n",
              "</tr>\n",
              "<tr>\n",
              "  <th>const</th>      <td>   -0.0099</td> <td>    0.002</td> <td>   -6.029</td> <td> 0.000</td> <td>   -0.013</td> <td>   -0.007</td>\n",
              "</tr>\n",
              "<tr>\n",
              "  <th>superficie</th> <td>    0.6312</td> <td>    0.007</td> <td>   96.075</td> <td> 0.000</td> <td>    0.618</td> <td>    0.644</td>\n",
              "</tr>\n",
              "<tr>\n",
              "  <th>parrilla</th>   <td>   -0.0040</td> <td>    0.002</td> <td>   -1.850</td> <td> 0.064</td> <td>   -0.008</td> <td>    0.000</td>\n",
              "</tr>\n",
              "<tr>\n",
              "  <th>cochera</th>    <td>    0.0053</td> <td>    0.002</td> <td>    2.669</td> <td> 0.008</td> <td>    0.001</td> <td>    0.009</td>\n",
              "</tr>\n",
              "<tr>\n",
              "  <th>pileta</th>     <td>    0.0190</td> <td>    0.002</td> <td>    9.923</td> <td> 0.000</td> <td>    0.015</td> <td>    0.023</td>\n",
              "</tr>\n",
              "<tr>\n",
              "  <th>lavadero</th>   <td>   -0.0149</td> <td>    0.002</td> <td>   -7.120</td> <td> 0.000</td> <td>   -0.019</td> <td>   -0.011</td>\n",
              "</tr>\n",
              "<tr>\n",
              "  <th>balcon</th>     <td>   -0.0043</td> <td>    0.002</td> <td>   -2.416</td> <td> 0.016</td> <td>   -0.008</td> <td>   -0.001</td>\n",
              "</tr>\n",
              "</table>\n",
              "<table class=\"simpletable\">\n",
              "<tr>\n",
              "  <th>Omnibus:</th>       <td>2341.849</td> <th>  Durbin-Watson:     </th>  <td>   1.783</td> \n",
              "</tr>\n",
              "<tr>\n",
              "  <th>Prob(Omnibus):</th>  <td> 0.000</td>  <th>  Jarque-Bera (JB):  </th> <td>155546.879</td>\n",
              "</tr>\n",
              "<tr>\n",
              "  <th>Skew:</th>           <td> 3.042</td>  <th>  Prob(JB):          </th>  <td>    0.00</td> \n",
              "</tr>\n",
              "<tr>\n",
              "  <th>Kurtosis:</th>       <td>37.336</td>  <th>  Cond. No.          </th>  <td>    10.5</td> \n",
              "</tr>\n",
              "</table><br/><br/>Notes:<br/>[1] Standard Errors assume that the covariance matrix of the errors is correctly specified."
            ]
          },
          "metadata": {},
          "execution_count": 75
        }
      ]
    },
    {
      "cell_type": "markdown",
      "source": [
        "Se observa que la variable categórica 'parrilla' es no significativa, por lo que se plantea otro modelo multivarido, sin esa variable"
      ],
      "metadata": {
        "id": "Y_qzwGiD4mZE"
      }
    },
    {
      "cell_type": "code",
      "source": [
        "X = data[['superficie', 'cochera', 'pileta', 'lavadero','balcon']]\n",
        "y = data[[\"precio\"]]\n",
        "X = sm.add_constant(X)\n",
        "modelo3 = sm.OLS(y, X).fit()\n",
        "prediccion = modelo3.predict(X)\n",
        "print (\"EMC:\", mean_squared_error(y, prediccion))\n",
        "\n",
        "modelo3.summary()"
      ],
      "metadata": {
        "colab": {
          "base_uri": "https://localhost:8080/",
          "height": 554
        },
        "id": "fGs6BOS-WRfd",
        "outputId": "75b42556-1c07-440e-cedc-17e3948b151f"
      },
      "execution_count": null,
      "outputs": [
        {
          "output_type": "stream",
          "name": "stdout",
          "text": [
            "EMC: 0.0021939546687078644\n"
          ]
        },
        {
          "output_type": "execute_result",
          "data": {
            "text/plain": [
              "<class 'statsmodels.iolib.summary.Summary'>\n",
              "\"\"\"\n",
              "                            OLS Regression Results                            \n",
              "==============================================================================\n",
              "Dep. Variable:                 precio   R-squared:                       0.771\n",
              "Model:                            OLS   Adj. R-squared:                  0.771\n",
              "Method:                 Least Squares   F-statistic:                     2063.\n",
              "Date:                Mon, 03 Jul 2023   Prob (F-statistic):               0.00\n",
              "Time:                        20:03:00   Log-Likelihood:                 5041.2\n",
              "No. Observations:                3070   AIC:                        -1.007e+04\n",
              "Df Residuals:                    3064   BIC:                        -1.003e+04\n",
              "Df Model:                           5                                         \n",
              "Covariance Type:            nonrobust                                         \n",
              "==============================================================================\n",
              "                 coef    std err          t      P>|t|      [0.025      0.975]\n",
              "------------------------------------------------------------------------------\n",
              "const         -0.0102      0.002     -6.240      0.000      -0.013      -0.007\n",
              "superficie     0.6313      0.007     96.050      0.000       0.618       0.644\n",
              "cochera        0.0052      0.002      2.618      0.009       0.001       0.009\n",
              "pileta         0.0181      0.002      9.771      0.000       0.014       0.022\n",
              "lavadero      -0.0148      0.002     -7.084      0.000      -0.019      -0.011\n",
              "balcon        -0.0047      0.002     -2.685      0.007      -0.008      -0.001\n",
              "==============================================================================\n",
              "Omnibus:                     2336.500   Durbin-Watson:                   1.783\n",
              "Prob(Omnibus):                  0.000   Jarque-Bera (JB):           156410.921\n",
              "Skew:                           3.028   Prob(JB):                         0.00\n",
              "Kurtosis:                      37.439   Cond. No.                         10.3\n",
              "==============================================================================\n",
              "\n",
              "Notes:\n",
              "[1] Standard Errors assume that the covariance matrix of the errors is correctly specified.\n",
              "\"\"\""
            ],
            "text/html": [
              "<table class=\"simpletable\">\n",
              "<caption>OLS Regression Results</caption>\n",
              "<tr>\n",
              "  <th>Dep. Variable:</th>         <td>precio</td>      <th>  R-squared:         </th>  <td>   0.771</td> \n",
              "</tr>\n",
              "<tr>\n",
              "  <th>Model:</th>                   <td>OLS</td>       <th>  Adj. R-squared:    </th>  <td>   0.771</td> \n",
              "</tr>\n",
              "<tr>\n",
              "  <th>Method:</th>             <td>Least Squares</td>  <th>  F-statistic:       </th>  <td>   2063.</td> \n",
              "</tr>\n",
              "<tr>\n",
              "  <th>Date:</th>             <td>Mon, 03 Jul 2023</td> <th>  Prob (F-statistic):</th>   <td>  0.00</td>  \n",
              "</tr>\n",
              "<tr>\n",
              "  <th>Time:</th>                 <td>20:03:00</td>     <th>  Log-Likelihood:    </th>  <td>  5041.2</td> \n",
              "</tr>\n",
              "<tr>\n",
              "  <th>No. Observations:</th>      <td>  3070</td>      <th>  AIC:               </th> <td>-1.007e+04</td>\n",
              "</tr>\n",
              "<tr>\n",
              "  <th>Df Residuals:</th>          <td>  3064</td>      <th>  BIC:               </th> <td>-1.003e+04</td>\n",
              "</tr>\n",
              "<tr>\n",
              "  <th>Df Model:</th>              <td>     5</td>      <th>                     </th>      <td> </td>    \n",
              "</tr>\n",
              "<tr>\n",
              "  <th>Covariance Type:</th>      <td>nonrobust</td>    <th>                     </th>      <td> </td>    \n",
              "</tr>\n",
              "</table>\n",
              "<table class=\"simpletable\">\n",
              "<tr>\n",
              "       <td></td>         <th>coef</th>     <th>std err</th>      <th>t</th>      <th>P>|t|</th>  <th>[0.025</th>    <th>0.975]</th>  \n",
              "</tr>\n",
              "<tr>\n",
              "  <th>const</th>      <td>   -0.0102</td> <td>    0.002</td> <td>   -6.240</td> <td> 0.000</td> <td>   -0.013</td> <td>   -0.007</td>\n",
              "</tr>\n",
              "<tr>\n",
              "  <th>superficie</th> <td>    0.6313</td> <td>    0.007</td> <td>   96.050</td> <td> 0.000</td> <td>    0.618</td> <td>    0.644</td>\n",
              "</tr>\n",
              "<tr>\n",
              "  <th>cochera</th>    <td>    0.0052</td> <td>    0.002</td> <td>    2.618</td> <td> 0.009</td> <td>    0.001</td> <td>    0.009</td>\n",
              "</tr>\n",
              "<tr>\n",
              "  <th>pileta</th>     <td>    0.0181</td> <td>    0.002</td> <td>    9.771</td> <td> 0.000</td> <td>    0.014</td> <td>    0.022</td>\n",
              "</tr>\n",
              "<tr>\n",
              "  <th>lavadero</th>   <td>   -0.0148</td> <td>    0.002</td> <td>   -7.084</td> <td> 0.000</td> <td>   -0.019</td> <td>   -0.011</td>\n",
              "</tr>\n",
              "<tr>\n",
              "  <th>balcon</th>     <td>   -0.0047</td> <td>    0.002</td> <td>   -2.685</td> <td> 0.007</td> <td>   -0.008</td> <td>   -0.001</td>\n",
              "</tr>\n",
              "</table>\n",
              "<table class=\"simpletable\">\n",
              "<tr>\n",
              "  <th>Omnibus:</th>       <td>2336.500</td> <th>  Durbin-Watson:     </th>  <td>   1.783</td> \n",
              "</tr>\n",
              "<tr>\n",
              "  <th>Prob(Omnibus):</th>  <td> 0.000</td>  <th>  Jarque-Bera (JB):  </th> <td>156410.921</td>\n",
              "</tr>\n",
              "<tr>\n",
              "  <th>Skew:</th>           <td> 3.028</td>  <th>  Prob(JB):          </th>  <td>    0.00</td> \n",
              "</tr>\n",
              "<tr>\n",
              "  <th>Kurtosis:</th>       <td>37.439</td>  <th>  Cond. No.          </th>  <td>    10.3</td> \n",
              "</tr>\n",
              "</table><br/><br/>Notes:<br/>[1] Standard Errors assume that the covariance matrix of the errors is correctly specified."
            ]
          },
          "metadata": {},
          "execution_count": 80
        }
      ]
    },
    {
      "cell_type": "markdown",
      "source": [
        "El R2 no se modifica pero queda un modelo con todas variables significativas"
      ],
      "metadata": {
        "id": "ZrAY44845AL3"
      }
    },
    {
      "cell_type": "code",
      "source": [
        "#[ 0.73707727, -0.00268944,  0.00973212,  0.01518257, -0.01125051,\n",
        "#       -0.00242103])"
      ],
      "metadata": {
        "id": "ZsviiZBDcaTN"
      },
      "execution_count": null,
      "outputs": []
    },
    {
      "cell_type": "code",
      "source": [
        "Xtest['superficie'].shape"
      ],
      "metadata": {
        "colab": {
          "base_uri": "https://localhost:8080/"
        },
        "id": "LBS6q9jysQlL",
        "outputId": "fbb5e3b1-743b-4289-f24c-2af01a1e7160"
      },
      "execution_count": null,
      "outputs": [
        {
          "output_type": "execute_result",
          "data": {
            "text/plain": [
              "(768,)"
            ]
          },
          "metadata": {},
          "execution_count": 55
        }
      ]
    },
    {
      "cell_type": "markdown",
      "source": [
        "Se grafica la regresión lineal entre precio y superficie"
      ],
      "metadata": {
        "id": "r__OinqE5eZ5"
      }
    },
    {
      "cell_type": "code",
      "source": [
        "sns.regplot(x='superficie', y='precio', data=data, ci=95, scatter_kws={\"color\": \"blue\"}, line_kws={\"color\": \"red\"})\n",
        "\n",
        "#sns.regplot(x='superficie', y='precio', data=data)"
      ],
      "metadata": {
        "id": "QXUNM6tvxHne",
        "colab": {
          "base_uri": "https://localhost:8080/",
          "height": 466
        },
        "outputId": "2802c738-3362-4070-ab84-9e63bde84d53"
      },
      "execution_count": null,
      "outputs": [
        {
          "output_type": "execute_result",
          "data": {
            "text/plain": [
              "<Axes: xlabel='superficie', ylabel='precio'>"
            ]
          },
          "metadata": {},
          "execution_count": 56
        },
        {
          "output_type": "display_data",
          "data": {
            "text/plain": [
              "<Figure size 640x480 with 1 Axes>"
            ],
            "image/png": "[encoded data removed]"
          },
          "metadata": {}
        }
      ]
    },
    {
      "cell_type": "markdown",
      "source": [
        "Planteamos regularización y hacemos dos modelos más, uno con Lasso y otro con Ridge"
      ],
      "metadata": {
        "id": "XxZlYFUiGXBM"
      }
    },
    {
      "cell_type": "markdown",
      "source": [
        "### Lasso"
      ],
      "metadata": {
        "id": "W-Y_l695xcKR"
      }
    },
    {
      "cell_type": "code",
      "source": [
        "lassocv = linear_model.LassoCV(alphas=[0.00006,0.00007,0.0001,0.0002, 0.0005, 0.001, 0.005, 0.01, 0.05, 0.1, 0.5, 1, 5, 10], cv=5)\n",
        "#lassocv = linear_model.LassoCV(alphas=[0.00005,0.00004,0.00003], cv=5)\n",
        "modelo_cv = lassocv.fit(Xtrain, ytrain)\n",
        "modelo_cv.score(Xtrain, ytrain)\n"
      ],
      "metadata": {
        "id": "wBz63FNP6Qv-",
        "colab": {
          "base_uri": "https://localhost:8080/"
        },
        "outputId": "deb73d13-bebc-4ec7-c91c-765e12102e53"
      },
      "execution_count": null,
      "outputs": [
        {
          "output_type": "execute_result",
          "data": {
            "text/plain": [
              "0.7808387488127538"
            ]
          },
          "metadata": {},
          "execution_count": 76
        }
      ]
    },
    {
      "cell_type": "code",
      "source": [
        "modelo_cv.coef_"
      ],
      "metadata": {
        "id": "1jmX0UOr8qjA",
        "colab": {
          "base_uri": "https://localhost:8080/"
        },
        "outputId": "65f8b717-3b90-4d67-e339-cd8ba0483f3d"
      },
      "execution_count": null,
      "outputs": [
        {
          "output_type": "execute_result",
          "data": {
            "text/plain": [
              "array([ 0.61713235, -0.00352829,  0.004639  ,  0.01672404, -0.01448083,\n",
              "       -0.00243729])"
            ]
          },
          "metadata": {},
          "execution_count": 77
        }
      ]
    },
    {
      "cell_type": "code",
      "source": [
        "modelo_cv.alpha_"
      ],
      "metadata": {
        "id": "uJjjs3m58Vab",
        "colab": {
          "base_uri": "https://localhost:8080/"
        },
        "outputId": "ef8c1003-376c-48c8-d86c-34fe69c4d337"
      },
      "execution_count": null,
      "outputs": [
        {
          "output_type": "execute_result",
          "data": {
            "text/plain": [
              "6e-05"
            ]
          },
          "metadata": {},
          "execution_count": 59
        }
      ]
    },
    {
      "cell_type": "code",
      "source": [
        "modelo_cv.score(Xtrain, ytrain)"
      ],
      "metadata": {
        "id": "PPGp4ncH9TvX",
        "colab": {
          "base_uri": "https://localhost:8080/"
        },
        "outputId": "18ffd100-bdec-459d-8f67-19fbf9b67971"
      },
      "execution_count": null,
      "outputs": [
        {
          "output_type": "execute_result",
          "data": {
            "text/plain": [
              "0.7808387488127538"
            ]
          },
          "metadata": {},
          "execution_count": 60
        }
      ]
    },
    {
      "cell_type": "code",
      "source": [
        "ypred = lassocv.predict(Xtest)\n",
        "\n",
        "r2 = r2_score(ytest, ypred)\n",
        "print(\"R2:\", r2)\n",
        "\n",
        "mse = mean_squared_error(ytest, ypred)\n",
        "print(\"MSE:\", mse)\n",
        "\n",
        "mae = mean_absolute_error(ytest, ypred)\n",
        "print(\"MAE:\", mae)\n",
        "\n",
        "rmse = np.sqrt(mean_squared_error(ytest, ypred))\n",
        "print(\"RMSE:\", rmse)"
      ],
      "metadata": {
        "colab": {
          "base_uri": "https://localhost:8080/"
        },
        "id": "rhd1yxJi4RUQ",
        "outputId": "177b4b6d-2987-43ba-fa19-b3ef4954ab46"
      },
      "execution_count": null,
      "outputs": [
        {
          "output_type": "stream",
          "name": "stdout",
          "text": [
            "R2: 0.7414307908049254\n",
            "MSE: 0.0025513591499106945\n",
            "MAE: 0.024881316658596275\n",
            "RMSE: 0.05051098048851056\n"
          ]
        }
      ]
    },
    {
      "cell_type": "code",
      "source": [
        "print ('MAE MV:', MAE_test)\n",
        "print(\"MAE Lasso:\", mae)\n",
        "print(f\"Diferencia: {round((MAE_test/mae)*100,3)} %\")\n",
        "print('\\n')\n",
        "print ('MSE MV:', MSE_test)\n",
        "print(\"MSE Lasso:\", mse)\n",
        "print(f\"Diferencia: {round((MSE_test/mse)*100,3)} %\")\n",
        "print('\\n')\n",
        "\n",
        "print ('RMSE MV:', RMSE_test)\n",
        "print(\"RMSE Lasso:\", rmse)\n",
        "print(f\"Diferencia: {round((RMSE_test/rmse)*100,3)} %\")\n",
        "\n",
        "print('\\n')\n",
        "print ('R2 MV:', R2_test)\n",
        "print(\"R2 Lasso:\", r2)\n",
        "print(f\"Diferencia: {round((R2_test/r2)*100,3)} %\")"
      ],
      "metadata": {
        "colab": {
          "base_uri": "https://localhost:8080/"
        },
        "id": "fSPuzTDda7ez",
        "outputId": "252bfec7-01d5-48f1-af1d-19666554d9a4"
      },
      "execution_count": null,
      "outputs": [
        {
          "output_type": "stream",
          "name": "stdout",
          "text": [
            "MAE MV: 0.024957353735357967\n",
            "MAE Lasso: 0.024881316658596275\n",
            "Diferencia: 100.306 %\n",
            "\n",
            "\n",
            "MSE MV: 0.0025443745120805198\n",
            "MSE Lasso: 0.0025513591499106945\n",
            "Diferencia: 99.726 %\n",
            "\n",
            "\n",
            "RMSE MV: 0.05044179330753933\n",
            "RMSE Lasso: 0.05051098048851056\n",
            "Diferencia: 99.863 %\n",
            "\n",
            "\n",
            "R2 MV: 0.7421386536239744\n",
            "R2 Lasso: 0.7414307908049254\n",
            "Diferencia: 100.095 %\n"
          ]
        }
      ]
    },
    {
      "cell_type": "markdown",
      "source": [
        "### Ridge"
      ],
      "metadata": {
        "id": "WZk89rjchzLY"
      }
    },
    {
      "cell_type": "code",
      "source": [
        "ridgecv = linear_model.RidgeCV(alphas=[0.00006, 0.00007, 0.0001, 0.0002, 0.0005, 0.001, 0.005, 0.01, 0.05, 0.1, 0.5, 1, 5, 10], cv=5)\n",
        "modelo_cv = ridgecv.fit(Xtrain, ytrain)\n",
        "print(modelo_cv.coef_)\n",
        "modelo_cv.score(Xtrain, ytrain)"
      ],
      "metadata": {
        "id": "OBWBW_BYAvrL",
        "colab": {
          "base_uri": "https://localhost:8080/"
        },
        "outputId": "b9d99043-78d7-435b-e4d4-3f133530fa3a"
      },
      "execution_count": null,
      "outputs": [
        {
          "output_type": "stream",
          "name": "stdout",
          "text": [
            "[ 0.61306999 -0.00396973  0.00518888  0.01699643 -0.01433408 -0.00262206]\n"
          ]
        },
        {
          "output_type": "execute_result",
          "data": {
            "text/plain": [
              "0.7807644496702156"
            ]
          },
          "metadata": {},
          "execution_count": 63
        }
      ]
    },
    {
      "cell_type": "code",
      "source": [
        "modelo_cv.alpha_"
      ],
      "metadata": {
        "id": "3uPeK2S9ITg1",
        "outputId": "b0f70d4d-8935-4e15-bad3-0709fcb00c28",
        "colab": {
          "base_uri": "https://localhost:8080/"
        }
      },
      "execution_count": null,
      "outputs": [
        {
          "output_type": "execute_result",
          "data": {
            "text/plain": [
              "0.5"
            ]
          },
          "metadata": {},
          "execution_count": 64
        }
      ]
    },
    {
      "cell_type": "code",
      "source": [
        "ypred = ridgecv.predict(Xtest)\n",
        "\n",
        "r2 = r2_score(ytest, ypred)\n",
        "print(\"R2:\", r2)\n",
        "\n",
        "mse = mean_squared_error(ytest, ypred)\n",
        "print(\"MSE:\", mse)\n",
        "\n",
        "mae = mean_absolute_error(ytest, ypred)\n",
        "print(\"MAE:\", mae)\n",
        "\n",
        "rmse = np.sqrt(mean_squared_error(ytest, ypred))\n",
        "print(\"RMSE:\", rmse)"
      ],
      "metadata": {
        "colab": {
          "base_uri": "https://localhost:8080/"
        },
        "id": "65STkUDb4ubm",
        "outputId": "b45ce901-4818-4383-d3d9-b79808e244b1"
      },
      "execution_count": null,
      "outputs": [
        {
          "output_type": "stream",
          "name": "stdout",
          "text": [
            "R2: 0.7409606329084002\n",
            "MSE: 0.0025559983010878056\n",
            "MAE: 0.0248549322147384\n",
            "RMSE: 0.050556881837073436\n"
          ]
        }
      ]
    },
    {
      "cell_type": "code",
      "source": [
        "print ('MAE MV:', MAE_test)\n",
        "print(\"MAE Ridge:\", mae)\n",
        "print(f\"Diferencia: {round((MAE_test/mae)*100,3)} %\")\n",
        "print('\\n')\n",
        "print ('MSE MV:', MSE_test)\n",
        "print(\"MSE Ridge:\", mse)\n",
        "print(f\"Diferencia: {round((MSE_test/mse)*100,3)} %\")\n",
        "print('\\n')\n",
        "\n",
        "print ('RMSE MV:', RMSE_test)\n",
        "print(\"RMSE Ridge:\", rmse)\n",
        "print(f\"Diferencia: {round((RMSE_test/rmse)*100,3)} %\")\n",
        "\n",
        "print('\\n')\n",
        "print ('R2 MV:', R2_test)\n",
        "print(\"R2 Ridge:\", r2)\n",
        "print(f\"Diferencia: {round((R2_test/r2)*100,3)} %\")"
      ],
      "metadata": {
        "colab": {
          "base_uri": "https://localhost:8080/"
        },
        "id": "Z9LQM6bYZ6wv",
        "outputId": "53975d37-e111-4ec2-a138-f93b772110bf"
      },
      "execution_count": null,
      "outputs": [
        {
          "output_type": "stream",
          "name": "stdout",
          "text": [
            "MAE MV: 0.024957353735357967\n",
            "MAE Ridge: 0.0248549322147384\n",
            "Diferencia: 100.412 %\n",
            "\n",
            "\n",
            "MSE MV: 0.0025443745120805198\n",
            "MSE Ridge: 0.0025559983010878056\n",
            "Diferencia: 99.545 %\n",
            "\n",
            "\n",
            "RMSE MV: 0.05044179330753933\n",
            "RMSE Ridge: 0.050556881837073436\n",
            "Diferencia: 99.772 %\n",
            "\n",
            "\n",
            "R2 MV: 0.7421386536239744\n",
            "R2 Ridge: 0.7409606329084002\n",
            "Diferencia: 100.159 %\n"
          ]
        }
      ]
    },
    {
      "cell_type": "markdown",
      "source": [
        "En los dos modelos se obtienen alfas muy bajos"
      ],
      "metadata": {
        "id": "-vUdO7_25Xrc"
      }
    },
    {
      "cell_type": "code",
      "source": [],
      "metadata": {
        "id": "2e5PY-wg5b1_"
      },
      "execution_count": null,
      "outputs": []
    }
  ]
}
